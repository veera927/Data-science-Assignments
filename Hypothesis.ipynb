{
 "cells": [
  {
   "cell_type": "code",
   "execution_count": 1,
   "id": "32b57dc8-2087-4e30-ba56-c05a581efd32",
   "metadata": {},
   "outputs": [
    {
     "name": "stdout",
     "output_type": "stream",
     "text": [
      "Test Statistic (t): -38.0\n",
      "Critical Value (Z-critical): 1.6448536269514722\n",
      "Fail to reject the null hypothesis: There is not enough evidence to support the claim that operating costs are higher.\n"
     ]
    }
   ],
   "source": [
    "import math\n",
    "from scipy.stats import norm\n",
    "\n",
    "# Given data\n",
    "x_bar = 3050  # sample mean\n",
    "mu = 4000     # theoretical mean\n",
    "sigma = 5 * 25  # standard deviation (5 * 25 units)\n",
    "n = 25         # sample size\n",
    "alpha = 0.05   # significance level\n",
    "\n",
    "# Step 1: Calculate the test statistic (t)\n",
    "test_statistic = (x_bar - mu) / (sigma / math.sqrt(n))\n",
    "\n",
    "# Step 2: Determine the critical value for a one-tailed test at alpha = 0.05\n",
    "z_critical = norm.ppf(1 - alpha)  # 1 - alpha for one-tailed\n",
    "\n",
    "# Step 3: Output the results\n",
    "print(f\"Test Statistic (t): {test_statistic}\")\n",
    "print(f\"Critical Value (Z-critical): {z_critical}\")\n",
    "\n",
    "# Step 4: Decision\n",
    "if test_statistic > z_critical:\n",
    "    print(\"Reject the null hypothesis: There is strong evidence to support the claim that operating costs are higher.\")\n",
    "else:\n",
    "    print(\"Fail to reject the null hypothesis: There is not enough evidence to support the claim that operating costs are higher.\")\n"
   ]
  },
  {
   "cell_type": "code",
   "execution_count": 2,
   "id": "74c4ffc1-701f-4802-8392-8d38760a5b54",
   "metadata": {},
   "outputs": [
    {
     "ename": "SyntaxError",
     "evalue": "invalid syntax (4083761678.py, line 1)",
     "output_type": "error",
     "traceback": [
      "\u001b[1;36m  Cell \u001b[1;32mIn[2], line 1\u001b[1;36m\u001b[0m\n\u001b[1;33m    Test Statistic (t): -7.6\u001b[0m\n\u001b[1;37m         ^\u001b[0m\n\u001b[1;31mSyntaxError\u001b[0m\u001b[1;31m:\u001b[0m invalid syntax\n"
     ]
    }
   ],
   "source": [
    "Test Statistic (t): -7.6\n",
    "Critical Value (Z) at alpha = 0.05: 1.6448536269514722\n",
    "\n",
    "Fail to reject the null hypothesis. There is insufficient evidence to support the claim that the weekly operating costs are higher than the model suggests.\n"
   ]
  },
  {
   "cell_type": "code",
   "execution_count": null,
   "id": "b15b12b3-884f-4b76-83f1-e06f8f38b819",
   "metadata": {},
   "outputs": [],
   "source": []
  }
 ],
 "metadata": {
  "kernelspec": {
   "display_name": "Python 3 (ipykernel)",
   "language": "python",
   "name": "python3"
  },
  "language_info": {
   "codemirror_mode": {
    "name": "ipython",
    "version": 3
   },
   "file_extension": ".py",
   "mimetype": "text/x-python",
   "name": "python",
   "nbconvert_exporter": "python",
   "pygments_lexer": "ipython3",
   "version": "3.12.7"
  }
 },
 "nbformat": 4,
 "nbformat_minor": 5
}
