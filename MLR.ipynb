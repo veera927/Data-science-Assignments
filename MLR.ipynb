{
 "cells": [
  {
   "cell_type": "code",
   "execution_count": 1,
   "id": "d48e6931-2b2f-4717-9a39-96346223ca35",
   "metadata": {},
   "outputs": [],
   "source": [
    "import pandas as pd\n",
    "import numpy as np\n",
    "import matplotlib.pyplot as plt\n",
    "import seaborn as sns\n",
    "from sklearn.model_selection import train_test_split\n",
    "from sklearn.linear_model import LinearRegression, Lasso, Ridge\n",
    "from sklearn.metrics import mean_squared_error, r2_score\n",
    "from sklearn.preprocessing import StandardScaler\n"
   ]
  },
  {
   "cell_type": "code",
   "execution_count": 3,
   "id": "8cfb96f5-45d2-4827-ae26-b064ea982504",
   "metadata": {},
   "outputs": [
    {
     "name": "stdout",
     "output_type": "stream",
     "text": [
      "   Price  Age_08_04     KM Fuel_Type  HP  Automatic    cc  Doors  Cylinders  \\\n",
      "0  13500         23  46986    Diesel  90          0  2000      3          4   \n",
      "1  13750         23  72937    Diesel  90          0  2000      3          4   \n",
      "2  13950         24  41711    Diesel  90          0  2000      3          4   \n",
      "3  14950         26  48000    Diesel  90          0  2000      3          4   \n",
      "4  13750         30  38500    Diesel  90          0  2000      3          4   \n",
      "\n",
      "   Gears  Weight  \n",
      "0      5    1165  \n",
      "1      5    1165  \n",
      "2      5    1165  \n",
      "3      5    1165  \n",
      "4      5    1170  \n"
     ]
    }
   ],
   "source": [
    "# Load the dataset (assuming the file is named 'toyota_corolla.csv')\n",
    "data = pd.read_csv('ToyotaCorolla - MLR.csv')  # Adjust the file path as needed\n",
    "print(data.head())\n"
   ]
  },
  {
   "cell_type": "code",
   "execution_count": 15,
   "id": "604ebcd6-f41f-485a-8f42-7661f07feb31",
   "metadata": {},
   "outputs": [
    {
     "name": "stdout",
     "output_type": "stream",
     "text": [
      "Price                  0\n",
      "Age_08_04              0\n",
      "KM                     0\n",
      "HP                     0\n",
      "Automatic           1436\n",
      "cc                     0\n",
      "Doors                  0\n",
      "Cylinders              0\n",
      "Gears                  0\n",
      "Weight                 0\n",
      "Fuel_Type_Diesel       0\n",
      "Fuel_Type_Petrol       0\n",
      "dtype: int64\n"
     ]
    }
   ],
   "source": [
    "# Check for missing values\n",
    "print(data.isnull().sum())\n"
   ]
  },
  {
   "cell_type": "code",
   "execution_count": 22,
   "id": "4c8c797c-fd22-46e0-aacd-80deadf9b087",
   "metadata": {},
   "outputs": [
    {
     "name": "stdout",
     "output_type": "stream",
     "text": [
      "Price               0\n",
      "Age_08_04           0\n",
      "KM                  0\n",
      "HP                  0\n",
      "Automatic           0\n",
      "cc                  0\n",
      "Doors               0\n",
      "Cylinders           0\n",
      "Gears               0\n",
      "Weight              0\n",
      "Fuel_Type_Diesel    0\n",
      "Fuel_Type_Petrol    0\n",
      "dtype: int64\n"
     ]
    }
   ],
   "source": [
    "# Drop rows where 'Automatic' column has missing values\n",
    "data = data.dropna(subset=['Automatic'])\n",
    "\n",
    "# Verify that missing values have been removed\n",
    "print(data.isnull().sum())\n"
   ]
  },
  {
   "cell_type": "code",
   "execution_count": 23,
   "id": "271855ff-c14f-4dde-9fe0-1cb51764af39",
   "metadata": {},
   "outputs": [],
   "source": [
    "# Define features (X) and target (y)\n",
    "X = data.drop('Price', axis=1)  # All columns except 'Price'\n",
    "y = data['Price']  # Target variable 'Price'\n"
   ]
  },
  {
   "cell_type": "code",
   "execution_count": 24,
   "id": "d56e33fe-347d-4edd-b148-b18484c64c15",
   "metadata": {},
   "outputs": [],
   "source": [
    "#Encode Categorical Variables\n",
    "# One-hot encode the categorical columns\n",
    "X = pd.get_dummies(X, drop_first=True)  # Drop the first category to avoid multicollinearity\n"
   ]
  },
  {
   "cell_type": "code",
   "execution_count": 26,
   "id": "752e137a-7c7f-4dba-839a-ff204adf5d0e",
   "metadata": {},
   "outputs": [
    {
     "name": "stdout",
     "output_type": "stream",
     "text": [
      "Rows before dropping missing values: 0\n",
      "Rows after dropping missing values: 0\n",
      "The dataset is empty after removing rows with missing 'Automatic' values.\n"
     ]
    }
   ],
   "source": [
    "# Check how many rows remain after dropping rows with missing values in the 'Automatic' column\n",
    "print(f\"Rows before dropping missing values: {len(data)}\")\n",
    "\n",
    "# Drop rows where 'Automatic' column has missing values\n",
    "data = data.dropna(subset=['Automatic'])\n",
    "\n",
    "# Check how many rows remain\n",
    "print(f\"Rows after dropping missing values: {len(data)}\")\n",
    "\n",
    "# If there are no rows left, this will cause issues in training the model.\n",
    "if len(data) == 0:\n",
    "    print(\"The dataset is empty after removing rows with missing 'Automatic' values.\")\n"
   ]
  },
  {
   "cell_type": "code",
   "execution_count": 28,
   "id": "240f941b-030f-494b-8cb8-ead3d147c15e",
   "metadata": {},
   "outputs": [],
   "source": [
    "# Define your features (X) and target variable (y)\n",
    "X = data.drop('Price', axis=1)  # Features excluding 'Price'\n",
    "y = data['Price']  # Target variable 'Price'\n"
   ]
  },
  {
   "cell_type": "code",
   "execution_count": 30,
   "id": "265ec720-8168-4462-9d79-7979f37b2dba",
   "metadata": {},
   "outputs": [
    {
     "name": "stdout",
     "output_type": "stream",
     "text": [
      "Rows before dropping missing values:  0\n",
      "Rows after dropping missing values:  0\n",
      "The dataset is empty after dropping missing 'Automatic' values. Please check the data or consider filling missing values.\n"
     ]
    }
   ],
   "source": [
    "# Check the dataset before dropping missing values\n",
    "print(\"Rows before dropping missing values: \", data.shape[0])\n",
    "\n",
    "# Drop rows where 'Automatic' is missing\n",
    "data_cleaned = data.dropna(subset=['Automatic'])\n",
    "\n",
    "# Check the dataset after dropping missing values\n",
    "print(\"Rows after dropping missing values: \", data_cleaned.shape[0])\n",
    "\n",
    "# If there are still rows left, proceed with the next steps\n",
    "if data_cleaned.shape[0] > 0:\n",
    "    # Define your features (X) and target variable (y)\n",
    "    X = data_cleaned.drop('Price', axis=1)  # Features excluding 'Price'\n",
    "    y = data_cleaned['Price']  # Target variable 'Price'\n",
    "\n",
    "    # Split the data into training and testing sets (80% training, 20% testing)\n",
    "    from sklearn.model_selection import train_test_split\n",
    "    X_train, X_test, y_train, y_test = train_test_split(X, y, test_size=0.2, random_state=42)\n",
    "\n",
    "    # Check the shapes of the resulting sets\n",
    "    print(X_train.shape, X_test.shape, y_train.shape, y_test.shape)\n",
    "else:\n",
    "    print(\"The dataset is empty after dropping missing 'Automatic' values. Please check the data or consider filling missing values.\")\n"
   ]
  },
  {
   "cell_type": "code",
   "execution_count": 33,
   "id": "50960c26-7300-472c-b708-283aae60ea8d",
   "metadata": {},
   "outputs": [
    {
     "name": "stdout",
     "output_type": "stream",
     "text": [
      "Missing values in 'Automatic' column: 0\n",
      "Shape of the data before imputation: (0, 12)\n"
     ]
    }
   ],
   "source": [
    "# Check the number of missing values in the 'Automatic' column before imputation\n",
    "print(f\"Missing values in 'Automatic' column: {data['Automatic'].isnull().sum()}\")\n",
    "\n",
    "# Check the shape of the data to see how many rows are there\n",
    "print(f\"Shape of the data before imputation: {data.shape}\")\n"
   ]
  },
  {
   "cell_type": "code",
   "execution_count": 34,
   "id": "399b2ec3-598f-4869-979a-5407405a5a57",
   "metadata": {},
   "outputs": [
    {
     "name": "stdout",
     "output_type": "stream",
     "text": [
      "Price               0\n",
      "Age_08_04           0\n",
      "KM                  0\n",
      "HP                  0\n",
      "Automatic           0\n",
      "cc                  0\n",
      "Doors               0\n",
      "Cylinders           0\n",
      "Gears               0\n",
      "Weight              0\n",
      "Fuel_Type_Diesel    0\n",
      "Fuel_Type_Petrol    0\n",
      "dtype: int64\n"
     ]
    }
   ],
   "source": [
    "# Check missing values in all columns\n",
    "missing_values = data.isnull().sum()\n",
    "print(missing_values)\n"
   ]
  },
  {
   "cell_type": "code",
   "execution_count": 37,
   "id": "a54973f6-1e90-41cb-8280-b587130ce41d",
   "metadata": {},
   "outputs": [],
   "source": [
    "# Separate features (X) and target (y)\n",
    "X = data.drop(columns=['Price'])  # Drop the target column 'Price'\n",
    "y = data['Price']  # The target column 'Price'\n"
   ]
  },
  {
   "cell_type": "code",
   "execution_count": 39,
   "id": "01cb445b-ab9c-4eae-8cca-61dacc01db93",
   "metadata": {},
   "outputs": [
    {
     "name": "stdout",
     "output_type": "stream",
     "text": [
      "Empty DataFrame\n",
      "Columns: [Price, Age_08_04, KM, HP, Automatic, cc, Doors, Cylinders, Gears, Weight, Fuel_Type_Diesel, Fuel_Type_Petrol]\n",
      "Index: []\n",
      "(0, 12)\n"
     ]
    }
   ],
   "source": [
    "# Check if the data is loaded correctly\n",
    "print(data.head())  # Print first few rows of the dataset\n",
    "print(data.shape)   # Check the shape of the data (rows, columns)\n"
   ]
  },
  {
   "cell_type": "code",
   "execution_count": 40,
   "id": "ef5bf715-9896-4985-b564-e3c6720716d7",
   "metadata": {},
   "outputs": [
    {
     "name": "stdout",
     "output_type": "stream",
     "text": [
      "   Price  Age_08_04     KM Fuel_Type  HP  Automatic    cc  Doors  Cylinders  \\\n",
      "0  13500         23  46986    Diesel  90          0  2000      3          4   \n",
      "1  13750         23  72937    Diesel  90          0  2000      3          4   \n",
      "2  13950         24  41711    Diesel  90          0  2000      3          4   \n",
      "3  14950         26  48000    Diesel  90          0  2000      3          4   \n",
      "4  13750         30  38500    Diesel  90          0  2000      3          4   \n",
      "\n",
      "   Gears  Weight  \n",
      "0      5    1165  \n",
      "1      5    1165  \n",
      "2      5    1165  \n",
      "3      5    1165  \n",
      "4      5    1170  \n",
      "(1436, 11)\n"
     ]
    }
   ],
   "source": [
    "# Check if the data is loaded correctly\n",
    "import pandas as pd\n",
    "\n",
    "# Load the dataset\n",
    "data = pd.read_csv('ToyotaCorolla - MLR.csv')  # Make sure the file path is correct\n",
    "\n",
    "# Print the first few rows and the shape of the data\n",
    "print(data.head())\n",
    "print(data.shape)\n"
   ]
  },
  {
   "cell_type": "code",
   "execution_count": 41,
   "id": "d4b0f55e-18ef-4dbb-b5ee-c2f82a09d84a",
   "metadata": {},
   "outputs": [
    {
     "name": "stdout",
     "output_type": "stream",
     "text": [
      "   Price  Age_08_04     KM  HP    cc  Doors  Cylinders  Gears  Weight  \\\n",
      "0  13500         23  46986  90  2000      3          4      5    1165   \n",
      "1  13750         23  72937  90  2000      3          4      5    1165   \n",
      "2  13950         24  41711  90  2000      3          4      5    1165   \n",
      "3  14950         26  48000  90  2000      3          4      5    1165   \n",
      "4  13750         30  38500  90  2000      3          4      5    1170   \n",
      "\n",
      "   Fuel_Type_Diesel  Fuel_Type_Petrol  Automatic_1  \n",
      "0              True             False        False  \n",
      "1              True             False        False  \n",
      "2              True             False        False  \n",
      "3              True             False        False  \n",
      "4              True             False        False  \n"
     ]
    }
   ],
   "source": [
    "# One-hot encode 'Fuel_Type' and 'Automatic' columns\n",
    "data_encoded = pd.get_dummies(data, columns=['Fuel_Type', 'Automatic'], drop_first=True)\n",
    "\n",
    "# Check the encoded data\n",
    "print(data_encoded.head())\n"
   ]
  },
  {
   "cell_type": "code",
   "execution_count": 42,
   "id": "154c760b-c3b6-4a51-b9ca-84aa6d1a2a80",
   "metadata": {},
   "outputs": [
    {
     "name": "stdout",
     "output_type": "stream",
     "text": [
      "X_train shape: (1148, 11), X_test shape: (288, 11)\n",
      "y_train shape: (1148,), y_test shape: (288,)\n"
     ]
    }
   ],
   "source": [
    "# Features (X) and target variable (y)\n",
    "X = data_encoded.drop(columns=['Price'])\n",
    "y = data_encoded['Price']\n",
    "\n",
    "# Split the data into training and testing sets\n",
    "from sklearn.model_selection import train_test_split\n",
    "X_train, X_test, y_train, y_test = train_test_split(X, y, test_size=0.2, random_state=42)\n",
    "\n",
    "# Check the shape of the resulting sets\n",
    "print(f\"X_train shape: {X_train.shape}, X_test shape: {X_test.shape}\")\n",
    "print(f\"y_train shape: {y_train.shape}, y_test shape: {y_test.shape}\")\n"
   ]
  },
  {
   "cell_type": "code",
   "execution_count": 43,
   "id": "0c9f422b-5937-4d3c-9f67-21138690522c",
   "metadata": {},
   "outputs": [
    {
     "name": "stdout",
     "output_type": "stream",
     "text": [
      "Mean Squared Error: 1165628.8132437498\n",
      "R^2 Score: 0.912639791658401\n"
     ]
    }
   ],
   "source": [
    "from sklearn.ensemble import RandomForestRegressor\n",
    "from sklearn.metrics import mean_squared_error, r2_score\n",
    "\n",
    "# Initialize the model\n",
    "model = RandomForestRegressor(n_estimators=100, random_state=42)\n",
    "\n",
    "# Train the model\n",
    "model.fit(X_train, y_train)\n",
    "\n",
    "# Make predictions\n",
    "y_pred = model.predict(X_test)\n",
    "\n",
    "# Evaluate the model\n",
    "mse = mean_squared_error(y_test, y_pred)\n",
    "r2 = r2_score(y_test, y_pred)\n",
    "\n",
    "print(f\"Mean Squared Error: {mse}\")\n",
    "print(f\"R^2 Score: {r2}\")\n"
   ]
  },
  {
   "cell_type": "code",
   "execution_count": 44,
   "id": "c842de34-0c3f-4752-b1a0-257a32bf6701",
   "metadata": {},
   "outputs": [
    {
     "name": "stdout",
     "output_type": "stream",
     "text": [
      "             Feature  Importance\n",
      "0          Age_08_04    0.840480\n",
      "7             Weight    0.065424\n",
      "1                 KM    0.065313\n",
      "2                 HP    0.015454\n",
      "4              Doors    0.005330\n",
      "3                 cc    0.003515\n",
      "9   Fuel_Type_Petrol    0.001736\n",
      "8   Fuel_Type_Diesel    0.001056\n",
      "10       Automatic_1    0.000863\n",
      "6              Gears    0.000829\n",
      "5          Cylinders    0.000000\n"
     ]
    }
   ],
   "source": [
    "# Feature importance\n",
    "feature_importance = model.feature_importances_\n",
    "feature_names = X.columns\n",
    "importance_df = pd.DataFrame({'Feature': feature_names, 'Importance': feature_importance})\n",
    "\n",
    "# Sort by importance\n",
    "importance_df = importance_df.sort_values(by='Importance', ascending=False)\n",
    "print(importance_df)\n"
   ]
  },
  {
   "cell_type": "code",
   "execution_count": null,
   "id": "08e806b1-36c4-4b08-ad42-08858caa5406",
   "metadata": {},
   "outputs": [],
   "source": [
    "#From the feature importance analysis of the multiple linear regression model,conclusions:\n",
    "#Age of the Car is the most significant predictor of the car's price, with a feature importance score of 0.840480. \n",
    "#This suggests that as a car gets older, its price tends to decrease, which aligns with common market trends where newer cars are typically priced higher than older ones.\n",
    "#Weight, KM (kilometers driven), and HP (horsepower) are also notable factors influencing the price, with moderate importance scores of 0.065424, 0.065313, and 0.015454, respectively. Heavier cars, with more kilometers driven or higher horsepower, tend to have a significant impact on pricing, though less so than the age.\n",
    "#Doors, cc (engine size), Gears, and Cylinders contribute relatively little to the price prediction. These features have low feature importance scores (0.005330, 0.003515, 0.000829, and 0.000000). This suggests that the number of doors or engine specifications like cc and Cylinders are not as influential in predicting car prices in this dataset.\n",
    "#Fuel Type (Diesel vs. Petrol) has very low importance, with scores of 0.001736 for Petrol and 0.001056 for Diesel. This indicates that the type of fuel the car uses does not play a major role in determining the price in this dataset.\n",
    "#The Automatic_1 feature, which represents whether the car is automatic, also has a very low feature importance (0.000863), indicating that this attribute has minimal influence on the price in this analysis."
   ]
  }
 ],
 "metadata": {
  "kernelspec": {
   "display_name": "Python 3 (ipykernel)",
   "language": "python",
   "name": "python3"
  },
  "language_info": {
   "codemirror_mode": {
    "name": "ipython",
    "version": 3
   },
   "file_extension": ".py",
   "mimetype": "text/x-python",
   "name": "python",
   "nbconvert_exporter": "python",
   "pygments_lexer": "ipython3",
   "version": "3.12.7"
  }
 },
 "nbformat": 4,
 "nbformat_minor": 5
}
