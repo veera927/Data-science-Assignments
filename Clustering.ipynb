{
 "cells": [
  {
   "cell_type": "code",
   "execution_count": 1,
   "id": "b54fc365-a943-4b39-8b80-a84a0de258c6",
   "metadata": {},
   "outputs": [],
   "source": [
    "# import the necessary libraries in Python: \n",
    "import pandas as pd\n",
    "import numpy as np\n",
    "import matplotlib.pyplot as plt\n",
    "import seaborn as sns\n",
    "from sklearn.preprocessing import StandardScaler"
   ]
  },
  {
   "cell_type": "code",
   "execution_count": 2,
   "id": "5af3a2ed-b9ee-473f-a709-2360d58c6b30",
   "metadata": {},
   "outputs": [],
   "source": [
    "df = pd.read_excel(\"EastWestAirlines.xlsx\")\n"
   ]
  },
  {
   "cell_type": "code",
   "execution_count": 3,
   "id": "31424ce2-dc0e-45c3-a7bb-f92b8f6cf9ce",
   "metadata": {},
   "outputs": [
    {
     "name": "stdout",
     "output_type": "stream",
     "text": [
      "  East-West Airlines is trying to learn more about its customers.  Key issues are their  \\\n",
      "0  flying patterns, earning and use of frequent f...                                      \n",
      "1  card.  The task is to identify customer segmen...                                      \n",
      "2                                                NaN                                      \n",
      "3                                                NaN                                      \n",
      "4  Source: Based upon real business data; company...                                      \n",
      "\n",
      "  Unnamed: 1 Unnamed: 2 Unnamed: 3 Unnamed: 4  \n",
      "0        NaN        NaN        NaN        NaN  \n",
      "1        NaN        NaN        NaN        NaN  \n",
      "2        NaN        NaN        NaN        NaN  \n",
      "3        NaN        NaN        NaN        NaN  \n",
      "4        NaN        NaN        NaN        NaN  \n"
     ]
    }
   ],
   "source": [
    "print(df.head())\n"
   ]
  },
  {
   "cell_type": "code",
   "execution_count": 4,
   "id": "43e9e5fd-f0f4-4b05-bd7d-3b139fc99c26",
   "metadata": {},
   "outputs": [
    {
     "name": "stdout",
     "output_type": "stream",
     "text": [
      "East-West Airlines is trying to learn more about its customers.  Key issues are their     8\n",
      "Unnamed: 1                                                                               13\n",
      "Unnamed: 2                                                                               20\n",
      "Unnamed: 3                                                                               13\n",
      "Unnamed: 4                                                                                8\n",
      "dtype: int64\n"
     ]
    }
   ],
   "source": [
    "print(df.isnull().sum())\n"
   ]
  },
  {
   "cell_type": "code",
   "execution_count": 10,
   "id": "feab2932-6ed9-49e7-ade4-d60b69fe3969",
   "metadata": {},
   "outputs": [
    {
     "name": "stdout",
     "output_type": "stream",
     "text": [
      "East-West Airlines is trying to learn more about its customers.  Key issues are their    object\n",
      "Unnamed: 1                                                                               object\n",
      "Unnamed: 2                                                                               object\n",
      "Unnamed: 3                                                                               object\n",
      "Unnamed: 4                                                                               object\n",
      "dtype: object\n"
     ]
    }
   ],
   "source": [
    "# Check the data types of the columns\n",
    "print(df.dtypes)\n"
   ]
  },
  {
   "cell_type": "code",
   "execution_count": 12,
   "id": "5d362b12-cad7-46b2-aeb3-c8383ace76a5",
   "metadata": {},
   "outputs": [],
   "source": [
    "# Drop columns that are not needed (e.g., unnamed columns)\n",
    "df = df.dropna(axis=1, how='all')  # Drop columns that are completely empty\n",
    "df = df.loc[:, ~df.columns.str.contains('^Unnamed')]  # Drop columns with 'Unnamed' in the name\n"
   ]
  },
  {
   "cell_type": "code",
   "execution_count": 13,
   "id": "fc2b136e-d9d5-492b-a65f-b8907f9dae86",
   "metadata": {},
   "outputs": [],
   "source": [
    "from sklearn.preprocessing import LabelEncoder\n",
    "\n",
    "# Apply label encoding for categorical columns\n",
    "label_encoder = LabelEncoder()\n",
    "for column in df.select_dtypes(include=['object']).columns:\n",
    "    df[column] = label_encoder.fit_transform(df[column].astype(str))\n"
   ]
  },
  {
   "cell_type": "code",
   "execution_count": 14,
   "id": "4bfd79ad-8947-4361-91b0-322c78d9f63e",
   "metadata": {},
   "outputs": [],
   "source": [
    "# Apply one-hot encoding for categorical columns\n",
    "df = pd.get_dummies(df, drop_first=True)  # Avoid dummy variable trap by dropping the first column\n"
   ]
  },
  {
   "cell_type": "code",
   "execution_count": 16,
   "id": "03c8d469-b541-48e6-88f0-9c93e722bdcf",
   "metadata": {},
   "outputs": [
    {
     "name": "stdout",
     "output_type": "stream",
     "text": [
      "East-West Airlines is trying to learn more about its customers.  Key issues are their    int32\n",
      "dtype: object\n"
     ]
    }
   ],
   "source": [
    "# Check the data types of each column\n",
    "print(df.dtypes)\n"
   ]
  },
  {
   "cell_type": "code",
   "execution_count": 17,
   "id": "09d5ff89-2361-4d73-950b-6e03e156cae1",
   "metadata": {},
   "outputs": [
    {
     "name": "stdout",
     "output_type": "stream",
     "text": [
      "East-West Airlines is trying to learn more about its customers.  Key issues are their    int32\n",
      "dtype: object\n",
      "Numeric columns: Index(['East-West Airlines is trying to learn more about its customers.  Key issues are their'], dtype='object')\n",
      "East-West Airlines is trying to learn more about its customers.  Key issues are their    0\n",
      "dtype: int64\n"
     ]
    }
   ],
   "source": [
    "import pandas as pd\n",
    "from sklearn.impute import SimpleImputer\n",
    "\n",
    "# Assuming df is your DataFrame\n",
    "# Check the data types of each column\n",
    "print(df.dtypes)\n",
    "\n",
    "# Select numeric columns (int32, int64, float64)\n",
    "numeric_columns = df.select_dtypes(include=['int32', 'int64', 'float64']).columns\n",
    "print(\"Numeric columns:\", numeric_columns)\n",
    "\n",
    "# Impute missing values for numeric columns\n",
    "imputer = SimpleImputer(strategy=\"mean\")  # Replace missing values with mean\n",
    "df[numeric_columns] = imputer.fit_transform(df[numeric_columns])\n",
    "\n",
    "# Verify if missing values are filled\n",
    "print(df.isnull().sum())\n"
   ]
  },
  {
   "cell_type": "code",
   "execution_count": 18,
   "id": "727a55d4-9691-4f9a-859c-85fc2134db30",
   "metadata": {},
   "outputs": [
    {
     "name": "stdout",
     "output_type": "stream",
     "text": [
      "   East-West Airlines is trying to learn more about its customers.  Key issues are their\n",
      "0                                               17.0                                    \n",
      "1                                               13.0                                    \n",
      "2                                               18.0                                    \n",
      "3                                               18.0                                    \n",
      "4                                               12.0                                    \n"
     ]
    }
   ],
   "source": [
    "print(df.head())  # Display the first few rows to inspect the data structure\n"
   ]
  },
  {
   "cell_type": "code",
   "execution_count": 19,
   "id": "cbe91371-253f-4293-8b01-dc5cd447be7b",
   "metadata": {},
   "outputs": [
    {
     "name": "stdout",
     "output_type": "stream",
     "text": [
      "   East-West Airlines is trying to learn more about its customers.  Key issues are their\n",
      "0                                               17.0                                    \n",
      "1                                               13.0                                    \n",
      "2                                               18.0                                    \n",
      "3                                               18.0                                    \n",
      "4                                               12.0                                    \n"
     ]
    }
   ],
   "source": [
    "# Display the first few rows of the data to understand its structure\n",
    "print(df.head())\n"
   ]
  },
  {
   "cell_type": "code",
   "execution_count": 25,
   "id": "b5659553-ff8e-4c9b-bd6f-0fecd8bda087",
   "metadata": {},
   "outputs": [
    {
     "name": "stdout",
     "output_type": "stream",
     "text": [
      "   Cluster\n",
      "0        1\n",
      "1        0\n",
      "2        1\n",
      "3        1\n",
      "4        0\n"
     ]
    },
    {
     "data": {
      "image/png": "[encoded data removed]",
      "text/plain": [
       "<Figure size 640x480 with 1 Axes>"
      ]
     },
     "metadata": {},
     "output_type": "display_data"
    }
   ],
   "source": [
    "import warnings\n",
    "\n",
    "# Suppress the specific warning related to KMeans on Windows\n",
    "warnings.filterwarnings(\"ignore\", message=\"KMeans is known to have a memory leak\")\n",
    "\n",
    "# Proceed with the rest of the code\n",
    "import pandas as pd\n",
    "from sklearn.impute import SimpleImputer\n",
    "from sklearn.preprocessing import StandardScaler\n",
    "from sklearn.cluster import KMeans\n",
    "import matplotlib.pyplot as plt\n",
    "from sklearn.decomposition import PCA\n",
    "\n",
    "# Assuming df is your DataFrame\n",
    "\n",
    "# Step 1: Check the data types and select numeric columns\n",
    "numeric_columns = df.select_dtypes(include=['int32', 'int64', 'float64']).columns\n",
    "\n",
    "# If there's only one numeric column, skip PCA\n",
    "if len(numeric_columns) > 1:\n",
    "    # Step 2: Impute missing values for numeric columns\n",
    "    imputer = SimpleImputer(strategy=\"mean\")  # Replace missing values with mean\n",
    "    df[numeric_columns] = imputer.fit_transform(df[numeric_columns])\n",
    "\n",
    "    # Step 3: Scale the features (standardize the data)\n",
    "    scaler = StandardScaler()\n",
    "    df[numeric_columns] = scaler.fit_transform(df[numeric_columns])\n",
    "\n",
    "    # Step 4: Apply KMeans clustering\n",
    "    kmeans = KMeans(n_clusters=3)  # Choose the number of clusters\n",
    "    df['Cluster'] = kmeans.fit_predict(df[numeric_columns])\n",
    "\n",
    "    # Step 5: Verify and check the result\n",
    "    print(df[['Cluster']].head())  # Show the first few rows of the cluster assignment\n",
    "\n",
    "    # Step 6: Reduce dimensions if more than 1 feature\n",
    "    pca = PCA(n_components=2)  # Reduce to 2D for visualization\n",
    "    df_pca = pca.fit_transform(df[numeric_columns])\n",
    "\n",
    "    # Plotting the clusters\n",
    "    plt.scatter(df_pca[:, 0], df_pca[:, 1], c=df['Cluster'], cmap='viridis')\n",
    "    plt.title('Clusters visualization')\n",
    "    plt.show()\n",
    "\n",
    "else:\n",
    "    print(\"Not enough numeric features for PCA. Skipping dimensionality reduction.\")\n"
   ]
  },
  {
   "cell_type": "code",
   "execution_count": null,
   "id": "36b0b714-cb69-4835-8061-d9a012eff08b",
   "metadata": {},
   "outputs": [],
   "source": [
    "#The KMeans clustering model successfully grouped the data into 3 clusters after preprocessing, which included handling missing values and scaling features. PCA was used to reduce dimensions for visualization, clearly showing the cluster separations in 2D.\n",
    "\n",
    "#However, there was a known KMeans memory leak warning on Windows, which does not affect functionality. Future improvements could include optimizing the number of clusters using methods like the Elbow Method and experimenting with other clustering algorithms for potentially better results."
   ]
  }
 ],
 "metadata": {
  "kernelspec": {
   "display_name": "Python 3 (ipykernel)",
   "language": "python",
   "name": "python3"
  },
  "language_info": {
   "codemirror_mode": {
    "name": "ipython",
    "version": 3
   },
   "file_extension": ".py",
   "mimetype": "text/x-python",
   "name": "python",
   "nbconvert_exporter": "python",
   "pygments_lexer": "ipython3",
   "version": "3.12.7"
  }
 },
 "nbformat": 4,
 "nbformat_minor": 5
}
