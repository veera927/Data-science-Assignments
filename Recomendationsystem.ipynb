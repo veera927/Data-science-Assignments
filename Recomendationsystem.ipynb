{
 "cells": [
  {
   "cell_type": "code",
   "execution_count": 1,
   "id": "4212c12f-616d-4ed2-b8d5-0225e82e2933",
   "metadata": {},
   "outputs": [
    {
     "name": "stdout",
     "output_type": "stream",
     "text": [
      "   anime_id                              name  \\\n",
      "0     32281                    Kimi no Na wa.   \n",
      "1      5114  Fullmetal Alchemist: Brotherhood   \n",
      "2     28977                          Gintama°   \n",
      "3      9253                       Steins;Gate   \n",
      "4      9969                     Gintama&#039;   \n",
      "\n",
      "                                               genre   type episodes  rating  \\\n",
      "0               Drama, Romance, School, Supernatural  Movie        1    9.37   \n",
      "1  Action, Adventure, Drama, Fantasy, Magic, Mili...     TV       64    9.26   \n",
      "2  Action, Comedy, Historical, Parody, Samurai, S...     TV       51    9.25   \n",
      "3                                   Sci-Fi, Thriller     TV       24    9.17   \n",
      "4  Action, Comedy, Historical, Parody, Samurai, S...     TV       51    9.16   \n",
      "\n",
      "   members  \n",
      "0   200630  \n",
      "1   793665  \n",
      "2   114262  \n",
      "3   673572  \n",
      "4   151266  \n",
      "<class 'pandas.core.frame.DataFrame'>\n",
      "RangeIndex: 12294 entries, 0 to 12293\n",
      "Data columns (total 7 columns):\n",
      " #   Column    Non-Null Count  Dtype  \n",
      "---  ------    --------------  -----  \n",
      " 0   anime_id  12294 non-null  int64  \n",
      " 1   name      12294 non-null  object \n",
      " 2   genre     12232 non-null  object \n",
      " 3   type      12269 non-null  object \n",
      " 4   episodes  12294 non-null  object \n",
      " 5   rating    12064 non-null  float64\n",
      " 6   members   12294 non-null  int64  \n",
      "dtypes: float64(1), int64(2), object(4)\n",
      "memory usage: 672.5+ KB\n",
      "None\n",
      "           anime_id        rating       members\n",
      "count  12294.000000  12064.000000  1.229400e+04\n",
      "mean   14058.221653      6.473902  1.807134e+04\n",
      "std    11455.294701      1.026746  5.482068e+04\n",
      "min        1.000000      1.670000  5.000000e+00\n",
      "25%     3484.250000      5.880000  2.250000e+02\n",
      "50%    10260.500000      6.570000  1.550000e+03\n",
      "75%    24794.500000      7.180000  9.437000e+03\n",
      "max    34527.000000     10.000000  1.013917e+06\n"
     ]
    }
   ],
   "source": [
    "import pandas as pd\n",
    "\n",
    "# Load the dataset\n",
    "df = pd.read_csv('anime.csv')\n",
    "\n",
    "# Explore the dataset\n",
    "print(df.head())\n",
    "print(df.info())  # Check data types and missing values\n",
    "print(df.describe())  # Summary statistics\n"
   ]
  },
  {
   "cell_type": "code",
   "execution_count": 4,
   "id": "4314dbb7-7592-46d5-af94-00275627f0fc",
   "metadata": {},
   "outputs": [
    {
     "name": "stdout",
     "output_type": "stream",
     "text": [
      "   anime_id                              name  \\\n",
      "0     32281                    Kimi no Na wa.   \n",
      "1      5114  Fullmetal Alchemist: Brotherhood   \n",
      "2     28977                          Gintama°   \n",
      "3      9253                       Steins;Gate   \n",
      "4      9969                     Gintama&#039;   \n",
      "\n",
      "                                               genre   type episodes  rating  \\\n",
      "0               Drama, Romance, School, Supernatural  Movie        1    9.37   \n",
      "1  Action, Adventure, Drama, Fantasy, Magic, Mili...     TV       64    9.26   \n",
      "2  Action, Comedy, Historical, Parody, Samurai, S...     TV       51    9.25   \n",
      "3                                   Sci-Fi, Thriller     TV       24    9.17   \n",
      "4  Action, Comedy, Historical, Parody, Samurai, S...     TV       51    9.16   \n",
      "\n",
      "   members  \n",
      "0   200630  \n",
      "1   793665  \n",
      "2   114262  \n",
      "3   673572  \n",
      "4   151266  \n"
     ]
    }
   ],
   "source": [
    "import pandas as pd\n",
    "\n",
    "# Load the dataset (make sure the path is correct)\n",
    "data = pd.read_csv('anime.csv')\n",
    "\n",
    "# Check the first few rows to confirm the dataset is loaded\n",
    "print(data.head())\n"
   ]
  },
  {
   "cell_type": "code",
   "execution_count": 6,
   "id": "2d8cfcf0-5a85-4058-9837-5074074684d8",
   "metadata": {},
   "outputs": [
    {
     "name": "stdout",
     "output_type": "stream",
     "text": [
      "anime_id     0\n",
      "name         0\n",
      "genre        0\n",
      "type        25\n",
      "episodes     0\n",
      "rating       0\n",
      "members      0\n",
      "dtype: int64\n"
     ]
    }
   ],
   "source": [
    "# Fill missing values in 'genre' with 'Unknown' without using inplace\n",
    "data['genre'] = data['genre'].fillna('Unknown')\n",
    "\n",
    "# Fill missing values in 'rating' with the mean rating without using inplace\n",
    "data['rating'] = data['rating'].fillna(data['rating'].mean())\n",
    "\n",
    "# Verify if missing values are handled\n",
    "print(data.isnull().sum())\n"
   ]
  },
  {
   "cell_type": "code",
   "execution_count": 7,
   "id": "a002c173-a58b-4674-8370-eeb691239e4a",
   "metadata": {},
   "outputs": [
    {
     "name": "stdout",
     "output_type": "stream",
     "text": [
      "anime_id    0\n",
      "name        0\n",
      "genre       0\n",
      "type        0\n",
      "episodes    0\n",
      "rating      0\n",
      "members     0\n",
      "dtype: int64\n"
     ]
    }
   ],
   "source": [
    "# Fill missing values in 'type' with 'Unknown'\n",
    "data['type'] = data['type'].fillna('Unknown')\n",
    "\n",
    "# Verify if missing values are handled\n",
    "print(data.isnull().sum())\n"
   ]
  },
  {
   "cell_type": "code",
   "execution_count": 8,
   "id": "d22010e1-111a-4152-a08b-7c9a9b302550",
   "metadata": {},
   "outputs": [
    {
     "name": "stdout",
     "output_type": "stream",
     "text": [
      "0     1.0\n",
      "1    64.0\n",
      "2    51.0\n",
      "3    24.0\n",
      "4    51.0\n",
      "Name: episodes, dtype: float64\n"
     ]
    }
   ],
   "source": [
    "# Convert 'episodes' to numeric, forcing errors to NaN (non-numeric values will be treated as NaN)\n",
    "data['episodes'] = pd.to_numeric(data['episodes'], errors='coerce')\n",
    "\n",
    "# Fill missing episodes values with the mean of the column\n",
    "data['episodes'] = data['episodes'].fillna(data['episodes'].mean())\n",
    "\n",
    "# Verify that the 'episodes' column is numeric and filled correctly\n",
    "print(data['episodes'].head())\n"
   ]
  },
  {
   "cell_type": "code",
   "execution_count": 9,
   "id": "7edecb33-72dc-44b2-af2a-3f7f61d411a6",
   "metadata": {},
   "outputs": [
    {
     "name": "stdout",
     "output_type": "stream",
     "text": [
      "     rating  episodes\n",
      "0  0.924370  0.000000\n",
      "1  0.911164  0.034673\n",
      "2  0.909964  0.027518\n",
      "3  0.900360  0.012658\n",
      "4  0.899160  0.027518\n"
     ]
    }
   ],
   "source": [
    "from sklearn.preprocessing import MinMaxScaler\n",
    "\n",
    "# Initialize the scaler\n",
    "scaler = MinMaxScaler()\n",
    "\n",
    "# Normalize the 'rating' and 'episodes' columns\n",
    "data[['rating', 'episodes']] = scaler.fit_transform(data[['rating', 'episodes']])\n",
    "\n",
    "# Verify that the columns have been normalized\n",
    "print(data[['rating', 'episodes']].head())\n"
   ]
  },
  {
   "cell_type": "code",
   "execution_count": 10,
   "id": "a89da2dd-334f-46b6-9d09-759cd318555f",
   "metadata": {},
   "outputs": [
    {
     "name": "stdout",
     "output_type": "stream",
     "text": [
      "   anime_id                              name  \\\n",
      "0     32281                    Kimi no Na wa.   \n",
      "1      5114  Fullmetal Alchemist: Brotherhood   \n",
      "2     28977                          Gintama°   \n",
      "3      9253                       Steins;Gate   \n",
      "4      9969                     Gintama&#039;   \n",
      "\n",
      "                                               genre   type  episodes  \\\n",
      "0               Drama, Romance, School, Supernatural  Movie  0.000000   \n",
      "1  Action, Adventure, Drama, Fantasy, Magic, Mili...     TV  0.034673   \n",
      "2  Action, Comedy, Historical, Parody, Samurai, S...     TV  0.027518   \n",
      "3                                   Sci-Fi, Thriller     TV  0.012658   \n",
      "4  Action, Comedy, Historical, Parody, Samurai, S...     TV  0.027518   \n",
      "\n",
      "     rating  members   Adventure   Cars   Comedy  ...  Shounen  Slice of Life  \\\n",
      "0  0.924370   200630           0      0        0  ...        0              0   \n",
      "1  0.911164   793665           1      0        0  ...        0              0   \n",
      "2  0.909964   114262           0      0        1  ...        0              0   \n",
      "3  0.900360   673572           0      0        0  ...        0              0   \n",
      "4  0.899160   151266           0      0        1  ...        0              0   \n",
      "\n",
      "   Space  Sports  Super Power  Supernatural  Thriller  Unknown  Vampire  Yaoi  \n",
      "0      0       0            0             0         0        0        0     0  \n",
      "1      0       0            0             0         0        0        0     0  \n",
      "2      0       0            0             0         0        0        0     0  \n",
      "3      0       0            0             0         0        0        0     0  \n",
      "4      0       0            0             0         0        0        0     0  \n",
      "\n",
      "[5 rows x 90 columns]\n"
     ]
    }
   ],
   "source": [
    "# One-hot encode the 'genre' column (genres are separated by commas)\n",
    "genre_dummies = data['genre'].str.get_dummies(sep=',')\n",
    "\n",
    "# Concatenate the new one-hot encoded columns with the original dataset\n",
    "data = pd.concat([data, genre_dummies], axis=1)\n",
    "\n",
    "# Check the updated dataframe\n",
    "print(data.head())\n"
   ]
  },
  {
   "cell_type": "code",
   "execution_count": 11,
   "id": "a00a9f90-e93d-4596-8986-2d31568108f9",
   "metadata": {},
   "outputs": [
    {
     "name": "stdout",
     "output_type": "stream",
     "text": [
      "(12294, 12294)\n"
     ]
    }
   ],
   "source": [
    "from sklearn.metrics.pairwise import cosine_similarity\n",
    "\n",
    "# Select the columns that will be used for similarity computation\n",
    "features = ['rating', 'episodes'] + list(genre_dummies.columns)\n",
    "\n",
    "# Create a new DataFrame with selected features\n",
    "anime_features = data[features]\n",
    "\n",
    "# Compute the cosine similarity matrix\n",
    "cosine_sim = cosine_similarity(anime_features)\n",
    "\n",
    "# Verify the shape of the similarity matrix\n",
    "print(cosine_sim.shape)\n"
   ]
  },
  {
   "cell_type": "code",
   "execution_count": 12,
   "id": "7dad49dd-34e4-4095-9cd6-8f2300aa537e",
   "metadata": {},
   "outputs": [
    {
     "name": "stdout",
     "output_type": "stream",
     "text": [
      "      anime_id                                               name    rating\n",
      "5805       547                        Wind: A Breath of Heart OVA  0.561825\n",
      "6394       546                       Wind: A Breath of Heart (TV)  0.536615\n",
      "208      28725                      Kokoro ga Sakebitagatterunda.  0.798319\n",
      "504       6351  Clannad: After Story - Mou Hitotsu no Sekai, K...  0.762305\n",
      "1201     10067                     Angel Beats!: Another Epilogue  0.715486\n"
     ]
    }
   ],
   "source": [
    "def recommend_anime(anime_id, cosine_sim, data, top_n=5):\n",
    "    # Get the index of the anime\n",
    "    idx = data[data['anime_id'] == anime_id].index[0]\n",
    "    \n",
    "    # Get pairwise cosine similarity scores for the given anime\n",
    "    sim_scores = list(enumerate(cosine_sim[idx]))\n",
    "    \n",
    "    # Sort the anime by similarity score (highest first)\n",
    "    sim_scores = sorted(sim_scores, key=lambda x: x[1], reverse=True)\n",
    "    \n",
    "    # Get the top_n most similar anime (excluding the input anime itself)\n",
    "    sim_scores = sim_scores[1:top_n+1]\n",
    "    \n",
    "    # Get the indices of the most similar anime\n",
    "    anime_indices = [i[0] for i in sim_scores]\n",
    "    \n",
    "    # Return the top_n most similar anime\n",
    "    return data.iloc[anime_indices][['anime_id', 'name', 'rating']]\n",
    "\n",
    "# Test the function by recommending anime similar to a given anime (e.g., anime_id = 32281)\n",
    "recommended_anime = recommend_anime(32281, cosine_sim, data, top_n=5)\n",
    "\n",
    "# Display the recommended anime\n",
    "print(recommended_anime)\n"
   ]
  },
  {
   "cell_type": "code",
   "execution_count": null,
   "id": "1073b770-b1ae-4f1a-a79e-12dd13c16698",
   "metadata": {},
   "outputs": [],
   "source": [
    "#This Assignment hlights the importance of data preprocessing and feature engineering in building an effective recommendation system. \n",
    "#By applying cosine similarity on carefully selected features, we can recommend anime that are likely to be of interest to users based on the content of the anime itself. While this is a simple recommendation system, \n",
    "#it can be expanded and refined to suit more complex use cases."
   ]
  }
 ],
 "metadata": {
  "kernelspec": {
   "display_name": "Python 3 (ipykernel)",
   "language": "python",
   "name": "python3"
  },
  "language_info": {
   "codemirror_mode": {
    "name": "ipython",
    "version": 3
   },
   "file_extension": ".py",
   "mimetype": "text/x-python",
   "name": "python",
   "nbconvert_exporter": "python",
   "pygments_lexer": "ipython3",
   "version": "3.12.7"
  }
 },
 "nbformat": 4,
 "nbformat_minor": 5
}
