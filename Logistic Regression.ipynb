{
 "cells": [
  {
   "cell_type": "code",
   "execution_count": 1,
   "id": "e7600bd8-f13d-4684-b87f-6454a6ca51af",
   "metadata": {},
   "outputs": [],
   "source": [
    "import pandas as pd\n",
    "import numpy as np\n",
    "import matplotlib.pyplot as plt\n",
    "import seaborn as sns\n",
    "from sklearn.model_selection import train_test_split\n",
    "from sklearn.linear_model import LogisticRegression\n",
    "from sklearn.metrics import accuracy_score, confusion_matrix, classification_report, roc_auc_score, roc_curve\n",
    "\n"
   ]
  },
  {
   "cell_type": "code",
   "execution_count": 4,
   "id": "af71dc1d-664e-4b13-b359-136cea867057",
   "metadata": {},
   "outputs": [
    {
     "data": {
      "text/html": [
       "<div>\n",
       "<style scoped>\n",
       "    .dataframe tbody tr th:only-of-type {\n",
       "        vertical-align: middle;\n",
       "    }\n",
       "\n",
       "    .dataframe tbody tr th {\n",
       "        vertical-align: top;\n",
       "    }\n",
       "\n",
       "    .dataframe thead th {\n",
       "        text-align: right;\n",
       "    }\n",
       "</style>\n",
       "<table border=\"1\" class=\"dataframe\">\n",
       "  <thead>\n",
       "    <tr style=\"text-align: right;\">\n",
       "      <th></th>\n",
       "      <th>PassengerId</th>\n",
       "      <th>Pclass</th>\n",
       "      <th>Name</th>\n",
       "      <th>Sex</th>\n",
       "      <th>Age</th>\n",
       "      <th>SibSp</th>\n",
       "      <th>Parch</th>\n",
       "      <th>Ticket</th>\n",
       "      <th>Fare</th>\n",
       "      <th>Cabin</th>\n",
       "      <th>Embarked</th>\n",
       "    </tr>\n",
       "  </thead>\n",
       "  <tbody>\n",
       "    <tr>\n",
       "      <th>0</th>\n",
       "      <td>892</td>\n",
       "      <td>3</td>\n",
       "      <td>Kelly, Mr. James</td>\n",
       "      <td>male</td>\n",
       "      <td>34.5</td>\n",
       "      <td>0</td>\n",
       "      <td>0</td>\n",
       "      <td>330911</td>\n",
       "      <td>7.8292</td>\n",
       "      <td>NaN</td>\n",
       "      <td>Q</td>\n",
       "    </tr>\n",
       "    <tr>\n",
       "      <th>1</th>\n",
       "      <td>893</td>\n",
       "      <td>3</td>\n",
       "      <td>Wilkes, Mrs. James (Ellen Needs)</td>\n",
       "      <td>female</td>\n",
       "      <td>47.0</td>\n",
       "      <td>1</td>\n",
       "      <td>0</td>\n",
       "      <td>363272</td>\n",
       "      <td>7.0000</td>\n",
       "      <td>NaN</td>\n",
       "      <td>S</td>\n",
       "    </tr>\n",
       "    <tr>\n",
       "      <th>2</th>\n",
       "      <td>894</td>\n",
       "      <td>2</td>\n",
       "      <td>Myles, Mr. Thomas Francis</td>\n",
       "      <td>male</td>\n",
       "      <td>62.0</td>\n",
       "      <td>0</td>\n",
       "      <td>0</td>\n",
       "      <td>240276</td>\n",
       "      <td>9.6875</td>\n",
       "      <td>NaN</td>\n",
       "      <td>Q</td>\n",
       "    </tr>\n",
       "    <tr>\n",
       "      <th>3</th>\n",
       "      <td>895</td>\n",
       "      <td>3</td>\n",
       "      <td>Wirz, Mr. Albert</td>\n",
       "      <td>male</td>\n",
       "      <td>27.0</td>\n",
       "      <td>0</td>\n",
       "      <td>0</td>\n",
       "      <td>315154</td>\n",
       "      <td>8.6625</td>\n",
       "      <td>NaN</td>\n",
       "      <td>S</td>\n",
       "    </tr>\n",
       "    <tr>\n",
       "      <th>4</th>\n",
       "      <td>896</td>\n",
       "      <td>3</td>\n",
       "      <td>Hirvonen, Mrs. Alexander (Helga E Lindqvist)</td>\n",
       "      <td>female</td>\n",
       "      <td>22.0</td>\n",
       "      <td>1</td>\n",
       "      <td>1</td>\n",
       "      <td>3101298</td>\n",
       "      <td>12.2875</td>\n",
       "      <td>NaN</td>\n",
       "      <td>S</td>\n",
       "    </tr>\n",
       "  </tbody>\n",
       "</table>\n",
       "</div>"
      ],
      "text/plain": [
       "   PassengerId  Pclass                                          Name     Sex  \\\n",
       "0          892       3                              Kelly, Mr. James    male   \n",
       "1          893       3              Wilkes, Mrs. James (Ellen Needs)  female   \n",
       "2          894       2                     Myles, Mr. Thomas Francis    male   \n",
       "3          895       3                              Wirz, Mr. Albert    male   \n",
       "4          896       3  Hirvonen, Mrs. Alexander (Helga E Lindqvist)  female   \n",
       "\n",
       "    Age  SibSp  Parch   Ticket     Fare Cabin Embarked  \n",
       "0  34.5      0      0   330911   7.8292   NaN        Q  \n",
       "1  47.0      1      0   363272   7.0000   NaN        S  \n",
       "2  62.0      0      0   240276   9.6875   NaN        Q  \n",
       "3  27.0      0      0   315154   8.6625   NaN        S  \n",
       "4  22.0      1      1  3101298  12.2875   NaN        S  "
      ]
     },
     "execution_count": 4,
     "metadata": {},
     "output_type": "execute_result"
    }
   ],
   "source": [
    "df = pd.read_csv(\"Titanic_test.csv\")\n",
    "df.head()"
   ]
  },
  {
   "cell_type": "code",
   "execution_count": 5,
   "id": "5e4e3e78-0da8-4572-9d10-f05e878dcde3",
   "metadata": {},
   "outputs": [
    {
     "name": "stdout",
     "output_type": "stream",
     "text": [
      "<class 'pandas.core.frame.DataFrame'>\n",
      "RangeIndex: 418 entries, 0 to 417\n",
      "Data columns (total 11 columns):\n",
      " #   Column       Non-Null Count  Dtype  \n",
      "---  ------       --------------  -----  \n",
      " 0   PassengerId  418 non-null    int64  \n",
      " 1   Pclass       418 non-null    int64  \n",
      " 2   Name         418 non-null    object \n",
      " 3   Sex          418 non-null    object \n",
      " 4   Age          332 non-null    float64\n",
      " 5   SibSp        418 non-null    int64  \n",
      " 6   Parch        418 non-null    int64  \n",
      " 7   Ticket       418 non-null    object \n",
      " 8   Fare         417 non-null    float64\n",
      " 9   Cabin        91 non-null     object \n",
      " 10  Embarked     418 non-null    object \n",
      "dtypes: float64(2), int64(4), object(5)\n",
      "memory usage: 36.1+ KB\n",
      "None\n",
      "       PassengerId      Pclass         Age       SibSp       Parch        Fare\n",
      "count   418.000000  418.000000  332.000000  418.000000  418.000000  417.000000\n",
      "mean   1100.500000    2.265550   30.272590    0.447368    0.392344   35.627188\n",
      "std     120.810458    0.841838   14.181209    0.896760    0.981429   55.907576\n",
      "min     892.000000    1.000000    0.170000    0.000000    0.000000    0.000000\n",
      "25%     996.250000    1.000000   21.000000    0.000000    0.000000    7.895800\n",
      "50%    1100.500000    3.000000   27.000000    0.000000    0.000000   14.454200\n",
      "75%    1204.750000    3.000000   39.000000    1.000000    0.000000   31.500000\n",
      "max    1309.000000    3.000000   76.000000    8.000000    9.000000  512.329200\n",
      "PassengerId      0\n",
      "Pclass           0\n",
      "Name             0\n",
      "Sex              0\n",
      "Age             86\n",
      "SibSp            0\n",
      "Parch            0\n",
      "Ticket           0\n",
      "Fare             1\n",
      "Cabin          327\n",
      "Embarked         0\n",
      "dtype: int64\n"
     ]
    }
   ],
   "source": [
    "# Data Exploration (EDA)\n",
    "# 1. Check the structure of the data\n",
    "print(df.info())\n",
    "\n",
    "# 2. Summary statistics for numerical features\n",
    "print(df.describe())\n",
    "\n",
    "# 3. Check for missing values\n",
    "print(df.isnull().sum())\n"
   ]
  },
  {
   "cell_type": "code",
   "execution_count": 6,
   "id": "541dae28-d6a7-4d37-adbf-44a5bd2c6b44",
   "metadata": {},
   "outputs": [
    {
     "name": "stdout",
     "output_type": "stream",
     "text": [
      "   PassengerId  Pclass                                          Name  Sex  \\\n",
      "0          892       3                              Kelly, Mr. James    1   \n",
      "1          893       3              Wilkes, Mrs. James (Ellen Needs)    0   \n",
      "2          894       2                     Myles, Mr. Thomas Francis    1   \n",
      "3          895       3                              Wirz, Mr. Albert    1   \n",
      "4          896       3  Hirvonen, Mrs. Alexander (Helga E Lindqvist)    0   \n",
      "\n",
      "    Age  SibSp  Parch   Ticket     Fare Cabin  Embarked  \n",
      "0  34.5      0      0   330911   7.8292   NaN         1  \n",
      "1  47.0      1      0   363272   7.0000   NaN         2  \n",
      "2  62.0      0      0   240276   9.6875   NaN         1  \n",
      "3  27.0      0      0   315154   8.6625   NaN         2  \n",
      "4  22.0      1      1  3101298  12.2875   NaN         2  \n"
     ]
    }
   ],
   "source": [
    "#Data Preprocessing\n",
    "from sklearn.impute import SimpleImputer\n",
    "from sklearn.preprocessing import LabelEncoder\n",
    "\n",
    "# 1. Handling missing values\n",
    "# Fill missing Age and Fare with median\n",
    "imputer = SimpleImputer(strategy='median')\n",
    "df['Age'] = imputer.fit_transform(df[['Age']])\n",
    "df['Fare'] = imputer.fit_transform(df[['Fare']])\n",
    "\n",
    "# Drop Cabin as it has many missing values\n",
    "#df.drop('Cabin', axis=1, inplace=True)\n",
    "\n",
    "# 2. Encoding categorical variables\n",
    "# Encode 'Sex' as 0 (male) and 1 (female)\n",
    "le = LabelEncoder()\n",
    "df['Sex'] = le.fit_transform(df['Sex'])\n",
    "\n",
    "# Encode 'Embarked' as 0, 1, 2\n",
    "df['Embarked'] = le.fit_transform(df['Embarked'])\n",
    "\n",
    "# 3. Final dataset after preprocessing\n",
    "print(df.head())\n"
   ]
  },
  {
   "cell_type": "code",
   "execution_count": 7,
   "id": "506b04a8-818a-443f-91de-a2a5bf9c1a44",
   "metadata": {},
   "outputs": [
    {
     "name": "stdout",
     "output_type": "stream",
     "text": [
      "   PassengerId  Pclass                                          Name  Sex  \\\n",
      "0          892       3                              Kelly, Mr. James    1   \n",
      "1          893       3              Wilkes, Mrs. James (Ellen Needs)    0   \n",
      "2          894       2                     Myles, Mr. Thomas Francis    1   \n",
      "3          895       3                              Wirz, Mr. Albert    1   \n",
      "4          896       3  Hirvonen, Mrs. Alexander (Helga E Lindqvist)    0   \n",
      "\n",
      "    Age  SibSp  Parch   Ticket     Fare Cabin  Embarked  \n",
      "0  34.5      0      0   330911   7.8292   NaN         1  \n",
      "1  47.0      1      0   363272   7.0000   NaN         2  \n",
      "2  62.0      0      0   240276   9.6875   NaN         1  \n",
      "3  27.0      0      0   315154   8.6625   NaN         2  \n",
      "4  22.0      1      1  3101298  12.2875   NaN         2  \n"
     ]
    }
   ],
   "source": [
    "print(df.head())\n"
   ]
  },
  {
   "cell_type": "code",
   "execution_count": 8,
   "id": "e51dbdfb-2195-4b52-a192-fb8c38185035",
   "metadata": {},
   "outputs": [
    {
     "name": "stdout",
     "output_type": "stream",
     "text": [
      "Index(['PassengerId', 'Pclass', 'Name', 'Sex', 'Age', 'SibSp', 'Parch',\n",
      "       'Ticket', 'Fare', 'Cabin', 'Embarked'],\n",
      "      dtype='object')\n"
     ]
    }
   ],
   "source": [
    "print(df.columns)\n"
   ]
  },
  {
   "cell_type": "code",
   "execution_count": 12,
   "id": "64a6294a-b072-4c44-bc03-6f292b1f4e4e",
   "metadata": {},
   "outputs": [],
   "source": [
    "import pandas as pd\n",
    "from sklearn.model_selection import train_test_split\n",
    "from sklearn.linear_model import LogisticRegression\n",
    "from sklearn.preprocessing import LabelEncoder, StandardScaler\n"
   ]
  },
  {
   "cell_type": "code",
   "execution_count": 14,
   "id": "85d7e95d-370b-4b97-ab41-b0ca058d4c4a",
   "metadata": {},
   "outputs": [
    {
     "name": "stdout",
     "output_type": "stream",
     "text": [
      "C:\\Users\\Veerababu\\Assignments\\Logistic Regression\n"
     ]
    }
   ],
   "source": [
    "import os\n",
    "print(os.getcwd())\n"
   ]
  },
  {
   "cell_type": "code",
   "execution_count": 16,
   "id": "bb1b435d-3178-4493-9054-6cbec53c2c52",
   "metadata": {},
   "outputs": [
    {
     "name": "stdout",
     "output_type": "stream",
     "text": [
      "   PassengerId  Pclass                                          Name     Sex  \\\n",
      "0          892       3                              Kelly, Mr. James    male   \n",
      "1          893       3              Wilkes, Mrs. James (Ellen Needs)  female   \n",
      "2          894       2                     Myles, Mr. Thomas Francis    male   \n",
      "3          895       3                              Wirz, Mr. Albert    male   \n",
      "4          896       3  Hirvonen, Mrs. Alexander (Helga E Lindqvist)  female   \n",
      "\n",
      "    Age  SibSp  Parch   Ticket     Fare Cabin Embarked  \n",
      "0  34.5      0      0   330911   7.8292   NaN        Q  \n",
      "1  47.0      1      0   363272   7.0000   NaN        S  \n",
      "2  62.0      0      0   240276   9.6875   NaN        Q  \n",
      "3  27.0      0      0   315154   8.6625   NaN        S  \n",
      "4  22.0      1      1  3101298  12.2875   NaN        S  \n"
     ]
    }
   ],
   "source": [
    "import pandas as pd\n",
    "\n",
    "# Provide the full path to the CSV file\n",
    "df = pd.read_csv(\"Titanic_test.csv\")\n",
    "\n",
    "# Verify the data is loaded correctly\n",
    "print(df.head())\n"
   ]
  },
  {
   "cell_type": "code",
   "execution_count": 51,
   "id": "723b6909-cbca-4105-ad57-a068b20473ea",
   "metadata": {},
   "outputs": [
    {
     "name": "stdout",
     "output_type": "stream",
     "text": [
      "Classification Report:\n",
      "               precision    recall  f1-score   support\n",
      "\n",
      "           0       0.44      0.53      0.48        38\n",
      "           1       0.54      0.46      0.49        46\n",
      "\n",
      "    accuracy                           0.49        84\n",
      "   macro avg       0.49      0.49      0.49        84\n",
      "weighted avg       0.50      0.49      0.49        84\n",
      "\n",
      "Confusion Matrix:\n",
      " [[20 18]\n",
      " [25 21]]\n"
     ]
    }
   ],
   "source": [
    "#Model Evaluation\n",
    "from sklearn.metrics import classification_report, confusion_matrix\n",
    "\n",
    "# Predictions\n",
    "y_pred = log_reg.predict(X_test_scaled)\n",
    "\n",
    "# Classification Report\n",
    "print(\"Classification Report:\\n\", classification_report(y_test, y_pred))\n",
    "\n",
    "# Confusion Matrix\n",
    "conf_matrix = confusion_matrix(y_test, y_pred)\n",
    "print(\"Confusion Matrix:\\n\", conf_matrix)\n"
   ]
  },
  {
   "cell_type": "code",
   "execution_count": 52,
   "id": "4274ba4c-c7c3-4966-bd07-2d135e0ad2d2",
   "metadata": {},
   "outputs": [
    {
     "name": "stdout",
     "output_type": "stream",
     "text": [
      "Best Parameters: {'C': 1, 'max_iter': 100, 'solver': 'lbfgs'}\n",
      "Best Cross-Validation Accuracy: 0.48801447308909995\n"
     ]
    }
   ],
   "source": [
    "from sklearn.model_selection import GridSearchCV\n",
    "\n",
    "# Hyperparameter grid for Logistic Regression\n",
    "param_grid = {\n",
    "    'C': [0.1, 1, 10, 100],\n",
    "    'solver': ['lbfgs', 'liblinear'],\n",
    "    'max_iter': [100, 200, 300]\n",
    "}\n",
    "\n",
    "# Grid Search\n",
    "grid_search = GridSearchCV(LogisticRegression(), param_grid, cv=5, scoring='accuracy')\n",
    "grid_search.fit(X_train_scaled, y_train)\n",
    "\n",
    "# Best Parameters and Accuracy\n",
    "print(\"Best Parameters:\", grid_search.best_params_)\n",
    "print(\"Best Cross-Validation Accuracy:\", grid_search.best_score_)\n"
   ]
  },
  {
   "cell_type": "code",
   "execution_count": 53,
   "id": "234ffba3-19bb-4f7a-8968-867e187f4c76",
   "metadata": {},
   "outputs": [
    {
     "name": "stdout",
     "output_type": "stream",
     "text": [
      "Model: Logistic Regression\n",
      "Classification Report:\n",
      "               precision    recall  f1-score   support\n",
      "\n",
      "           0       0.44      0.53      0.48        38\n",
      "           1       0.54      0.46      0.49        46\n",
      "\n",
      "    accuracy                           0.49        84\n",
      "   macro avg       0.49      0.49      0.49        84\n",
      "weighted avg       0.50      0.49      0.49        84\n",
      "\n",
      "--------------------------------------------------\n",
      "Model: Random Forest\n",
      "Classification Report:\n",
      "               precision    recall  f1-score   support\n",
      "\n",
      "           0       0.39      0.42      0.41        38\n",
      "           1       0.49      0.46      0.47        46\n",
      "\n",
      "    accuracy                           0.44        84\n",
      "   macro avg       0.44      0.44      0.44        84\n",
      "weighted avg       0.44      0.44      0.44        84\n",
      "\n",
      "--------------------------------------------------\n",
      "Model: SVM\n",
      "Classification Report:\n",
      "               precision    recall  f1-score   support\n",
      "\n",
      "           0       0.39      0.47      0.43        38\n",
      "           1       0.47      0.39      0.43        46\n",
      "\n",
      "    accuracy                           0.43        84\n",
      "   macro avg       0.43      0.43      0.43        84\n",
      "weighted avg       0.44      0.43      0.43        84\n",
      "\n",
      "--------------------------------------------------\n"
     ]
    }
   ],
   "source": [
    "from sklearn.ensemble import RandomForestClassifier\n",
    "from sklearn.svm import SVC\n",
    "\n",
    "# Models\n",
    "models = {\n",
    "    'Logistic Regression': LogisticRegression(C=grid_search.best_params_['C'], \n",
    "                                             solver=grid_search.best_params_['solver'], \n",
    "                                             max_iter=grid_search.best_params_['max_iter']),\n",
    "    'Random Forest': RandomForestClassifier(n_estimators=100),\n",
    "    'SVM': SVC(kernel='linear', C=1)\n",
    "}\n",
    "\n",
    "# Model Evaluation\n",
    "for name, model in models.items():\n",
    "    model.fit(X_train_scaled, y_train)\n",
    "    y_pred = model.predict(X_test_scaled)\n",
    "    print(f\"Model: {name}\")\n",
    "    print(\"Classification Report:\\n\", classification_report(y_test, y_pred))\n",
    "    print(\"-\" * 50)\n"
   ]
  },
  {
   "cell_type": "code",
   "execution_count": 54,
   "id": "66076c9c-2b8a-43be-8e03-2df37bf9b666",
   "metadata": {},
   "outputs": [
    {
     "data": {
      "image/png": "[encoded data removed]",
      "text/plain": [
       "<Figure size 800x600 with 1 Axes>"
      ]
     },
     "metadata": {},
     "output_type": "display_data"
    }
   ],
   "source": [
    "# Feature Importance for Random Forest\n",
    "rf_model = RandomForestClassifier(n_estimators=100)\n",
    "rf_model.fit(X_train_scaled, y_train)\n",
    "\n",
    "# Plotting Feature Importance\n",
    "importances = rf_model.feature_importances_\n",
    "features = X_train.columns\n",
    "\n",
    "plt.figure(figsize=(8, 6))\n",
    "plt.barh(features, importances, color='skyblue')\n",
    "plt.xlabel('Importance')\n",
    "plt.title('Feature Importance (Random Forest)')\n",
    "plt.show()\n"
   ]
  },
  {
   "cell_type": "code",
   "execution_count": 55,
   "id": "0bd71913-da43-4e1d-a639-affda7600af0",
   "metadata": {},
   "outputs": [
    {
     "name": "stdout",
     "output_type": "stream",
     "text": [
      "    Feature  Coefficient\n",
      "0    Pclass    -0.112967\n",
      "1       Sex    -0.094259\n",
      "2       Age    -0.056793\n",
      "3     SibSp    -0.112329\n",
      "4     Parch    -0.088012\n",
      "5      Fare     0.120840\n",
      "6  Embarked     0.004606\n"
     ]
    }
   ],
   "source": [
    "# Coefficients Interpretation\n",
    "coefficients = pd.DataFrame({\n",
    "    'Feature': X_train.columns,\n",
    "    'Coefficient': log_reg.coef_[0]\n",
    "})\n",
    "\n",
    "# Display Coefficients\n",
    "print(coefficients)\n"
   ]
  },
  {
   "cell_type": "code",
   "execution_count": 56,
   "id": "1b70a64c-015c-4904-825d-7a8a4c298e27",
   "metadata": {},
   "outputs": [
    {
     "name": "stdout",
     "output_type": "stream",
     "text": [
      "Optimization terminated successfully.\n",
      "         Current function value: 0.685524\n",
      "         Iterations 4\n",
      "                           Logit Regression Results                           \n",
      "==============================================================================\n",
      "Dep. Variable:               Survived   No. Observations:                  334\n",
      "Model:                          Logit   Df Residuals:                      326\n",
      "Method:                           MLE   Df Model:                            7\n",
      "Date:                Sat, 05 Apr 2025   Pseudo R-squ.:                 0.01097\n",
      "Time:                        21:13:39   Log-Likelihood:                -228.97\n",
      "converged:                       True   LL-Null:                       -231.51\n",
      "Covariance Type:            nonrobust   LLR p-value:                    0.6502\n",
      "==============================================================================\n",
      "                 coef    std err          z      P>|z|      [0.025      0.975]\n",
      "------------------------------------------------------------------------------\n",
      "const         -0.0121      0.110     -0.110      0.912      -0.228       0.204\n",
      "x1            -0.1141      0.149     -0.767      0.443      -0.406       0.178\n",
      "x2            -0.0954      0.113     -0.842      0.400      -0.317       0.127\n",
      "x3            -0.0589      0.127     -0.465      0.642      -0.307       0.189\n",
      "x4            -0.1142      0.126     -0.908      0.364      -0.361       0.132\n",
      "x5            -0.0895      0.127     -0.705      0.481      -0.338       0.159\n",
      "x6             0.1233      0.157      0.787      0.431      -0.184       0.430\n",
      "x7             0.0055      0.116      0.047      0.963      -0.223       0.233\n",
      "==============================================================================\n"
     ]
    }
   ],
   "source": [
    "import statsmodels.api as sm\n",
    "\n",
    "# Logistic Regression with statsmodels to get p-values\n",
    "X_train_sm = sm.add_constant(X_train_scaled)\n",
    "logit_model = sm.Logit(y_train, X_train_sm)\n",
    "result = logit_model.fit()\n",
    "\n",
    "# Display Summary\n",
    "print(result.summary())\n"
   ]
  },
  {
   "cell_type": "code",
   "execution_count": 57,
   "id": "ead02602-afec-4ae6-baaa-42a8d5a1ce2b",
   "metadata": {},
   "outputs": [],
   "source": [
    "import pickle\n",
    "from sklearn.linear_model import LogisticRegression\n",
    "\n",
    "# Assuming log_reg is your trained model\n",
    "with open('logistic_regression_model.pkl', 'wb') as file:\n",
    "    pickle.dump(log_reg, file)\n"
   ]
  },
  {
   "cell_type": "code",
   "execution_count": 58,
   "id": "560f41e0-ed4e-4677-ac02-34a3fc4f7121",
   "metadata": {},
   "outputs": [
    {
     "name": "stdout",
     "output_type": "stream",
     "text": [
      "['05Aprl2026-Assignments', 'datascience', 'Interviewquetions', 'logistic_regression_model.pkl', 'titanic.py']\n"
     ]
    }
   ],
   "source": [
    "import os\n",
    "print(os.listdir('.'))\n"
   ]
  },
  {
   "cell_type": "code",
   "execution_count": 59,
   "id": "6ef8d707-4abc-4cf5-8626-b6aa8d06635b",
   "metadata": {},
   "outputs": [
    {
     "name": "stdout",
     "output_type": "stream",
     "text": [
      "C:\\Users\\Veerababu\\Desktop\\Gvr-data science\n"
     ]
    }
   ],
   "source": [
    "cd \"C:\\Users\\Veerababu\\Desktop\\Gvr-data science\""
   ]
  },
  {
   "cell_type": "code",
   "execution_count": 60,
   "id": "31420f8d-d3f2-4166-bbe3-a3619776703e",
   "metadata": {},
   "outputs": [],
   "source": [
    "import streamlit as st\n",
    "import pickle\n",
    "import pandas as pd\n",
    "from sklearn.preprocessing import StandardScaler\n",
    "\n",
    "# Load the trained logistic regression model\n",
    "model = pickle.load(open('logistic_regression_model.pkl', 'rb'))\n",
    "\n",
    "# Streamlit UI\n",
    "st.title(\"Titanic Survival Prediction\")\n",
    "st.write(\"Enter passenger details to predict survival probability.\")\n",
    "\n",
    "# Input fields\n",
    "pclass = st.selectbox(\"Pclass\", [1, 2, 3])\n",
    "sex = st.selectbox(\"Sex\", ['male', 'female'])\n",
    "age = st.number_input(\"Age\", min_value=0, max_value=100)\n",
    "sibsp = st.number_input(\"SibSp\", min_value=0, max_value=10)\n",
    "parch = st.number_input(\"Parch\", min_value=0, max_value=10)\n",
    "fare = st.number_input(\"Fare\", min_value=0.0, max_value=500.0)\n",
    "embarked = st.selectbox(\"Embarked\", ['C', 'Q', 'S'])\n",
    "\n",
    "# Convert 'male'/'female' to 0/1\n",
    "sex = 1 if sex == 'male' else 0\n",
    "\n",
    "# One-hot encoding for 'Embarked'\n",
    "embarked_mapping = {'C': 0, 'Q': 1, 'S': 2}\n",
    "embarked_encoded = embarked_mapping[embarked]\n",
    "\n",
    "# Create DataFrame\n",
    "input_data = pd.DataFrame([[pclass, sex, age, sibsp, parch, fare, embarked_encoded]],\n",
    "                          columns=['Pclass', 'Sex', 'Age', 'SibSp', 'Parch', 'Fare', 'Embarked'])\n",
    "\n",
    "# Feature scaling\n",
    "scaler = StandardScaler()\n",
    "input_data_scaled = scaler.fit_transform(input_data)\n",
    "\n",
    "# Prediction\n",
    "if st.button(\"Predict\"):\n",
    "    prediction = model.predict(input_data_scaled)\n",
    "    st.write(\"Survival Prediction:\", \"Survived\" if prediction[0] == 1 else \"Not Survived\")\n"
   ]
  },
  {
   "cell_type": "code",
   "execution_count": 20,
   "id": "5e72b7a3-6bd3-4d76-bf57-3bfb518292fd",
   "metadata": {},
   "outputs": [],
   "source": [
    "#Conclusion\n",
    "#In this assignment, we successfully developed a Titanic Survival Prediction Model using Logistic Regression. \n",
    "#The process involved key steps like data preprocessing, handling missing values, encoding categorical data,\n",
    "#and feature scaling. The trained model accurately predicts survival status based on passenger details, \n",
    "#demonstrating the practical application of machine learning in solving real-world problems. \n",
    "#This assignment reinforced essential concepts in data science, focusing on data handling, model training, and evaluation."
   ]
  },
  {
   "cell_type": "code",
   "execution_count": null,
   "id": "ec44f9a2-920b-4b9b-a7ad-1862df10170b",
   "metadata": {},
   "outputs": [],
   "source": []
  }
 ],
 "metadata": {
  "kernelspec": {
   "display_name": "Python 3 (ipykernel)",
   "language": "python",
   "name": "python3"
  },
  "language_info": {
   "codemirror_mode": {
    "name": "ipython",
    "version": 3
   },
   "file_extension": ".py",
   "mimetype": "text/x-python",
   "name": "python",
   "nbconvert_exporter": "python",
   "pygments_lexer": "ipython3",
   "version": "3.12.7"
  }
 },
 "nbformat": 4,
 "nbformat_minor": 5
}
