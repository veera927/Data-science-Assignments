{
 "cells": [
  {
   "cell_type": "code",
   "execution_count": 1,
   "id": "217e0f7f-f2f7-4850-8803-7545bee56f41",
   "metadata": {},
   "outputs": [
    {
     "name": "stdout",
     "output_type": "stream",
     "text": [
      "   PassengerId  Survived  Pclass  \\\n",
      "0            1         0       3   \n",
      "1            2         1       1   \n",
      "2            3         1       3   \n",
      "3            4         1       1   \n",
      "4            5         0       3   \n",
      "\n",
      "                                                Name     Sex   Age  SibSp  \\\n",
      "0                            Braund, Mr. Owen Harris    male  22.0      1   \n",
      "1  Cumings, Mrs. John Bradley (Florence Briggs Th...  female  38.0      1   \n",
      "2                             Heikkinen, Miss. Laina  female  26.0      0   \n",
      "3       Futrelle, Mrs. Jacques Heath (Lily May Peel)  female  35.0      1   \n",
      "4                           Allen, Mr. William Henry    male  35.0      0   \n",
      "\n",
      "   Parch            Ticket     Fare Cabin Embarked  \n",
      "0      0         A/5 21171   7.2500   NaN        S  \n",
      "1      0          PC 17599  71.2833   C85        C  \n",
      "2      0  STON/O2. 3101282   7.9250   NaN        S  \n",
      "3      0            113803  53.1000  C123        S  \n",
      "4      0            373450   8.0500   NaN        S  \n"
     ]
    }
   ],
   "source": [
    "import pandas as pd\n",
    "\n",
    "# Load the Titanic dataset\n",
    "data = pd.read_csv('Titanic_train.csv')  # Use the actual file path\n",
    "print(data.head())  # Check the first few rows of the dataset\n"
   ]
  },
  {
   "cell_type": "code",
   "execution_count": 2,
   "id": "61a1e539-adf6-47d1-8ce5-a7b034b70792",
   "metadata": {},
   "outputs": [
    {
     "name": "stdout",
     "output_type": "stream",
     "text": [
      "Survived    0\n",
      "Pclass      0\n",
      "Sex         0\n",
      "Age         0\n",
      "SibSp       0\n",
      "Parch       0\n",
      "Fare        0\n",
      "Embarked    2\n",
      "dtype: int64\n"
     ]
    }
   ],
   "source": [
    "#Handle Missing Values\n",
    "from sklearn.impute import SimpleImputer\n",
    "\n",
    "# Impute missing values in 'Age' with the median value\n",
    "imputer = SimpleImputer(strategy='median')\n",
    "data['Age'] = imputer.fit_transform(data[['Age']])\n",
    "\n",
    "# Drop unnecessary columns ('Name', 'Ticket', 'Cabin', 'PassengerId')\n",
    "data = data.drop(columns=['Name', 'Ticket', 'Cabin', 'PassengerId'])\n",
    "\n",
    "# Check for missing values\n",
    "print(data.isnull().sum())\n"
   ]
  },
  {
   "cell_type": "code",
   "execution_count": 3,
   "id": "0e97cf01-c57c-4b63-8cf1-71c017e592fc",
   "metadata": {},
   "outputs": [
    {
     "name": "stdout",
     "output_type": "stream",
     "text": [
      "   Survived  Pclass   Age  SibSp  Parch     Fare  Sex_male  Embarked_Q  \\\n",
      "0         0       3  22.0      1      0   7.2500      True       False   \n",
      "1         1       1  38.0      1      0  71.2833     False       False   \n",
      "2         1       3  26.0      0      0   7.9250     False       False   \n",
      "3         1       1  35.0      1      0  53.1000     False       False   \n",
      "4         0       3  35.0      0      0   8.0500      True       False   \n",
      "\n",
      "   Embarked_S  \n",
      "0        True  \n",
      "1       False  \n",
      "2        True  \n",
      "3        True  \n",
      "4        True  \n"
     ]
    }
   ],
   "source": [
    "#Convert Categorical Variables to Numerical\n",
    "# Convert categorical 'Sex' and 'Embarked' columns to numerical using OneHotEncoding\n",
    "data = pd.get_dummies(data, columns=['Sex', 'Embarked'], drop_first=True)\n",
    "\n",
    "# Check the first few rows after encoding\n",
    "print(data.head())\n"
   ]
  },
  {
   "cell_type": "code",
   "execution_count": 4,
   "id": "d5edbec0-26df-4ece-9489-2c52054211ed",
   "metadata": {},
   "outputs": [
    {
     "name": "stdout",
     "output_type": "stream",
     "text": [
      "(891, 8) (891,)\n"
     ]
    }
   ],
   "source": [
    "#Split Data into Features (X) and Target (y)\n",
    "X = data.drop(columns=['Survived'])  # All columns except 'Survived' as features\n",
    "y = data['Survived']  # 'Survived' as the target variable\n",
    "\n",
    "# Check the shapes of X and y\n",
    "print(X.shape, y.shape)\n"
   ]
  },
  {
   "cell_type": "code",
   "execution_count": 5,
   "id": "abfc0715-2372-462a-9605-9253c4ea50b1",
   "metadata": {},
   "outputs": [
    {
     "name": "stdout",
     "output_type": "stream",
     "text": [
      "(712, 8) (179, 8)\n"
     ]
    }
   ],
   "source": [
    "#Split Data into Training and Testing Sets\n",
    "from sklearn.model_selection import train_test_split\n",
    "\n",
    "# Split the dataset into training (80%) and testing (20%) sets\n",
    "X_train, X_test, y_train, y_test = train_test_split(X, y, test_size=0.2, random_state=42)\n",
    "\n",
    "# Check the shape of the training and test sets\n",
    "print(X_train.shape, X_test.shape)\n"
   ]
  },
  {
   "cell_type": "code",
   "execution_count": 6,
   "id": "7a0b6aad-34fa-4e77-8c04-3a611ddf163a",
   "metadata": {},
   "outputs": [
    {
     "name": "stdout",
     "output_type": "stream",
     "text": [
      "[[-1.61413602  1.25364106 -0.47072241 -0.47934164 -0.07868358  0.7243102\n",
      "  -0.30335547  0.59681695]\n",
      " [-0.40055118 -0.47728355 -0.47072241 -0.47934164 -0.37714494  0.7243102\n",
      "  -0.30335547  0.59681695]\n",
      " [ 0.81303367  0.21508629 -0.47072241 -0.47934164 -0.47486697  0.7243102\n",
      "  -0.30335547  0.59681695]\n",
      " [ 0.81303367 -0.24649361  0.37992316 -0.47934164 -0.47623026  0.7243102\n",
      "  -0.30335547  0.59681695]\n",
      " [ 0.81303367 -1.78509326  2.93185988  2.04874166 -0.02524937 -1.38062393\n",
      "  -0.30335547  0.59681695]]\n"
     ]
    }
   ],
   "source": [
    "# Feature Scaling\n",
    "from sklearn.preprocessing import StandardScaler\n",
    "\n",
    "# Initialize scaler and fit-transform the training data\n",
    "scaler = StandardScaler()\n",
    "X_train_scaled = scaler.fit_transform(X_train)\n",
    "\n",
    "# Transform the test data using the same scaler\n",
    "X_test_scaled = scaler.transform(X_test)\n",
    "\n",
    "# Check the scaled features\n",
    "print(X_train_scaled[:5])  # First 5 rows of scaled data\n"
   ]
  },
  {
   "cell_type": "code",
   "execution_count": 7,
   "id": "33630b37-cadd-4101-8c11-b8104e14b3fd",
   "metadata": {},
   "outputs": [
    {
     "name": "stdout",
     "output_type": "stream",
     "text": [
      "Model Trained Successfully\n"
     ]
    }
   ],
   "source": [
    "#Train the Logistic Regression Model\n",
    "from sklearn.linear_model import LogisticRegression\n",
    "\n",
    "# Create logistic regression model\n",
    "logreg = LogisticRegression(max_iter=1000)\n",
    "\n",
    "# Train the model using the scaled training data\n",
    "logreg.fit(X_train_scaled, y_train)\n",
    "\n",
    "# Model is trained\n",
    "print(\"Model Trained Successfully\")\n"
   ]
  },
  {
   "cell_type": "code",
   "execution_count": 8,
   "id": "f5684d2b-94fe-457d-8862-9260fcabc84d",
   "metadata": {},
   "outputs": [
    {
     "name": "stdout",
     "output_type": "stream",
     "text": [
      "[0 0 0 1 1]\n"
     ]
    }
   ],
   "source": [
    "# Make predictions on the test data\n",
    "y_pred = logreg.predict(X_test_scaled)\n",
    "\n",
    "# Print the predictions for the first 5 test samples\n",
    "print(y_pred[:5])\n"
   ]
  },
  {
   "cell_type": "code",
   "execution_count": 9,
   "id": "2c9884ff-8efd-4099-9947-c1f1b6b1673a",
   "metadata": {},
   "outputs": [
    {
     "name": "stdout",
     "output_type": "stream",
     "text": [
      "Accuracy: 0.8100558659217877\n",
      "Precision: 0.7857142857142857\n",
      "Recall: 0.7432432432432432\n",
      "F1 Score: 0.7638888888888888\n"
     ]
    }
   ],
   "source": [
    "from sklearn.metrics import accuracy_score, precision_score, recall_score, f1_score\n",
    "\n",
    "# Calculate the evaluation metrics\n",
    "accuracy = accuracy_score(y_test, y_pred)\n",
    "precision = precision_score(y_test, y_pred)\n",
    "recall = recall_score(y_test, y_pred)\n",
    "f1 = f1_score(y_test, y_pred)\n",
    "\n",
    "# Print the evaluation metrics\n",
    "print(f\"Accuracy: {accuracy}\")\n",
    "print(f\"Precision: {precision}\")\n",
    "print(f\"Recall: {recall}\")\n",
    "print(f\"F1 Score: {f1}\")\n"
   ]
  },
  {
   "cell_type": "code",
   "execution_count": 10,
   "id": "a3a81dbf-fa44-49f2-883d-9bae13ea8e0d",
   "metadata": {},
   "outputs": [
    {
     "data": {
      "image/png": "[encoded data removed]",
      "text/plain": [
       "<Figure size 800x600 with 1 Axes>"
      ]
     },
     "metadata": {},
     "output_type": "display_data"
    }
   ],
   "source": [
    "import matplotlib.pyplot as plt\n",
    "from sklearn.metrics import roc_curve\n",
    "\n",
    "# Compute ROC curve\n",
    "fpr, tpr, _ = roc_curve(y_test, logreg.predict_proba(X_test_scaled)[:, 1])\n",
    "\n",
    "# Plot the ROC curve\n",
    "plt.figure(figsize=(8, 6))\n",
    "plt.plot(fpr, tpr, color='blue', label='ROC curve')\n",
    "plt.plot([0, 1], [0, 1], color='gray', linestyle='--')  # Diagonal line (random classifier)\n",
    "plt.xlabel('False Positive Rate')\n",
    "plt.ylabel('True Positive Rate')\n",
    "plt.title('ROC Curve')\n",
    "plt.legend(loc='lower right')\n",
    "plt.show()\n"
   ]
  },
  {
   "cell_type": "code",
   "execution_count": 11,
   "id": "afcdd70c-ac71-4d91-bca6-0ff5088a99fe",
   "metadata": {},
   "outputs": [
    {
     "name": "stdout",
     "output_type": "stream",
     "text": [
      "Pclass: -0.7844411328963402\n",
      "Age: -0.39691866848669605\n",
      "SibSp: -0.34885120889926535\n",
      "Parch: -0.09540089968844524\n",
      "Fare: 0.12458723751447418\n",
      "Sex_male: -1.2756996972131658\n",
      "Embarked_Q: -0.04901864996479761\n",
      "Embarked_S: -0.19619573476124305\n"
     ]
    }
   ],
   "source": [
    "# Display the coefficients of the model\n",
    "coefficients = logreg.coef_[0]\n",
    "feature_names = X.columns  # Feature names from the dataset\n",
    "\n",
    "# Print the feature names and their corresponding coefficients\n",
    "for feature, coef in zip(feature_names, coefficients):\n",
    "    print(f'{feature}: {coef}')\n"
   ]
  },
  {
   "cell_type": "code",
   "execution_count": null,
   "id": "3b758485-c9b2-4793-869c-76dcf9d000a6",
   "metadata": {},
   "outputs": [],
   "source": [
    "#Summary of Steps:\n",
    "#Load Data and Preprocess (handle missing values and encode categorical features).\n",
    "#Split the data into training and test sets.\n",
    "#Scale the features for better performance in Logistic Regression.\n",
    "#Train the Logistic Regression model.\n",
    "Make Predictions using the test data.\n",
    "\n",
    "Evaluate the model using accuracy, precision, recall, F1 score, and ROC curve.\n",
    "\n",
    "Interpret the model’s coefficients."
   ]
  }
 ],
 "metadata": {
  "kernelspec": {
   "display_name": "Python 3 (ipykernel)",
   "language": "python",
   "name": "python3"
  },
  "language_info": {
   "codemirror_mode": {
    "name": "ipython",
    "version": 3
   },
   "file_extension": ".py",
   "mimetype": "text/x-python",
   "name": "python",
   "nbconvert_exporter": "python",
   "pygments_lexer": "ipython3",
   "version": "3.12.7"
  }
 },
 "nbformat": 4,
 "nbformat_minor": 5
}
