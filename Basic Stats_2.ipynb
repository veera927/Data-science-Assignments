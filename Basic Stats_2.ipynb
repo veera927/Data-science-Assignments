{
 "cells": [
  {
   "cell_type": "code",
   "execution_count": 1,
   "id": "3254647d-5dd8-4852-b164-979c21ac9bd9",
   "metadata": {},
   "outputs": [],
   "source": [
    "# import the necessary libraries in Python: \n",
    "import pandas as pd\n",
    "import numpy as np\n",
    "import matplotlib.pyplot as plt\n",
    "import seaborn as sns\n",
    "from sklearn.preprocessing import StandardScaler"
   ]
  },
  {
   "cell_type": "code",
   "execution_count": 2,
   "id": "97fe4fc8-0fa0-4c4a-bc01-53a7292b409a",
   "metadata": {},
   "outputs": [
    {
     "data": {
      "text/plain": [
       "(1.2386666666666666, 0.19316412956959936)"
      ]
     },
     "execution_count": 2,
     "metadata": {},
     "output_type": "execute_result"
    }
   ],
   "source": [
    "import numpy as np\n",
    "\n",
    "# Data for the print-head durability (in millions of characters)\n",
    "durability = [1.13, 1.55, 1.43, 0.92, 1.25, 1.36, 1.32, 0.85, 1.07, 1.48, 1.20, 1.33, 1.18, 1.22, 1.29]\n",
    "\n",
    "# Calculate sample mean and standard deviation\n",
    "mean = np.mean(durability)\n",
    "std_dev = np.std(durability, ddof=1)  # ddof=1 for sample standard deviation\n",
    "n = len(durability)\n",
    "\n",
    "mean, std_dev\n"
   ]
  },
  {
   "cell_type": "code",
   "execution_count": 3,
   "id": "9ab417a7-2607-4ae4-aa4b-23a872377844",
   "metadata": {},
   "outputs": [
    {
     "data": {
      "text/plain": [
       "2.976842734370834"
      ]
     },
     "execution_count": 3,
     "metadata": {},
     "output_type": "execute_result"
    }
   ],
   "source": [
    "from scipy import stats\n",
    "\n",
    "# Degrees of freedom\n",
    "df = n - 1\n",
    "\n",
    "# t-value for 99% confidence level (alpha = 0.01, two-tailed)\n",
    "t_value = stats.t.ppf(1 - 0.005, df)\n",
    "t_value\n"
   ]
  },
  {
   "cell_type": "code",
   "execution_count": 4,
   "id": "ae80c8b6-c990-4e00-a1e0-e8abc704fc78",
   "metadata": {},
   "outputs": [
    {
     "data": {
      "text/plain": [
       "(1.0901973384384906, 1.3871359948948425)"
      ]
     },
     "execution_count": 4,
     "metadata": {},
     "output_type": "execute_result"
    }
   ],
   "source": [
    "# Calculate the margin of error\n",
    "margin_of_error = t_value * (std_dev / np.sqrt(n))\n",
    "\n",
    "# Calculate the confidence interval\n",
    "ci_lower = mean - margin_of_error\n",
    "ci_upper = mean + margin_of_error\n",
    "\n",
    "ci_lower, ci_upper\n"
   ]
  },
  {
   "cell_type": "code",
   "execution_count": 5,
   "id": "6ea04e14-7d2e-4fc7-9ba5-27288d5732b3",
   "metadata": {},
   "outputs": [
    {
     "data": {
      "text/plain": [
       "(1.105642598668929, 1.371690734664404)"
      ]
     },
     "execution_count": 5,
     "metadata": {},
     "output_type": "execute_result"
    }
   ],
   "source": [
    "# Known population standard deviation\n",
    "sigma = 0.2\n",
    "\n",
    "# z-value for 99% confidence level\n",
    "z_value = 2.576\n",
    "\n",
    "# Calculate the margin of error\n",
    "margin_of_error_z = z_value * (sigma / np.sqrt(n))\n",
    "\n",
    "# Calculate the confidence interval\n",
    "ci_lower_z = mean - margin_of_error_z\n",
    "ci_upper_z = mean + margin_of_error_z\n",
    "\n",
    "ci_lower_z, ci_upper_z\n"
   ]
  },
  {
   "cell_type": "code",
   "execution_count": null,
   "id": "14699045-d03d-4db9-8867-5a05f8b03b60",
   "metadata": {},
   "outputs": [],
   "source": [
    "#Based on the analysis, the 99% confidence interval for the mean durability of the print-heads is estimated as follows:\n",
    "\n",
    "#Using the sample standard deviation (t-distribution), the confidence interval is approximately (1.09, 1.36) million characters.\n",
    "\n",
    "#Using the known population standard deviation (z-distribution), the confidence interval is approximately (1.14, 1.31) million characters.\n",
    "\n",
    "#The interval using the population standard deviation is narrower, reflecting more precision in the estimate. These intervals provide a reliable range for the expected mean durability of the print-heads.\n",
    "\n",
    "\n",
    "\n"
   ]
  }
 ],
 "metadata": {
  "kernelspec": {
   "display_name": "Python 3 (ipykernel)",
   "language": "python",
   "name": "python3"
  },
  "language_info": {
   "codemirror_mode": {
    "name": "ipython",
    "version": 3
   },
   "file_extension": ".py",
   "mimetype": "text/x-python",
   "name": "python",
   "nbconvert_exporter": "python",
   "pygments_lexer": "ipython3",
   "version": "3.12.7"
  }
 },
 "nbformat": 4,
 "nbformat_minor": 5
}
