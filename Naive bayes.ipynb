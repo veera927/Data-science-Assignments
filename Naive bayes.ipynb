{
 "cells": [
  {
   "cell_type": "code",
   "execution_count": 2,
   "id": "22013f1e-89ce-4762-9bbe-48d96a6a8c27",
   "metadata": {},
   "outputs": [
    {
     "name": "stdout",
     "output_type": "stream",
     "text": [
      "Mock dataset 'blogs_categories.csv' created successfully!\n"
     ]
    }
   ],
   "source": [
    "import pandas as pd\n",
    "\n",
    "# Sample blog posts and categories\n",
    "data = {\n",
    "    \"Data\": [\n",
    "        \"AI is transforming the future of technology with rapid innovations.\",\n",
    "        \"My trip to the Swiss Alps was breathtaking and adventurous.\",\n",
    "        \"Try this delicious vegan lasagna recipe for a healthy dinner.\",\n",
    "        \"10 tips to improve your mental health and well-being.\",\n",
    "        \"The latest smartphone features a foldable display and 5G support.\",\n",
    "        \"Exploring the ancient ruins of Rome was a magical experience.\",\n",
    "        \"This chocolate cake is rich, moist, and perfect for celebrations.\",\n",
    "        \"Meditation helps in reducing stress and improving focus.\",\n",
    "        \"Top programming languages to learn in 2025 for tech jobs.\",\n",
    "        \"Discover hidden gems in Bali for your next tropical vacation.\"\n",
    "    ],\n",
    "    \"Labels\": [\n",
    "        \"Technology\", \"Travel\", \"Food\", \"Health\", \"Technology\",\n",
    "        \"Travel\", \"Food\", \"Health\", \"Technology\", \"Travel\"\n",
    "    ]\n",
    "}\n",
    "\n",
    "df = pd.DataFrame(data)\n",
    "df.to_csv('blogs_categories.csv', index=False)\n",
    "print(\"Mock dataset 'blogs_categories.csv' created successfully!\")\n"
   ]
  },
  {
   "cell_type": "code",
   "execution_count": 3,
   "id": "a5110982-be32-4c93-8b1c-e4fb7dafc64c",
   "metadata": {},
   "outputs": [
    {
     "name": "stdout",
     "output_type": "stream",
     "text": [
      "                                                Data      Labels\n",
      "0  AI is transforming the future of technology wi...  Technology\n",
      "1  My trip to the Swiss Alps was breathtaking and...      Travel\n",
      "2  Try this delicious vegan lasagna recipe for a ...        Food\n",
      "3  10 tips to improve your mental health and well...      Health\n",
      "4  The latest smartphone features a foldable disp...  Technology\n",
      "\n",
      "Category distribution:\n",
      " Labels\n",
      "Technology    3\n",
      "Travel        3\n",
      "Food          2\n",
      "Health        2\n",
      "Name: count, dtype: int64\n"
     ]
    }
   ],
   "source": [
    "import pandas as pd\n",
    "\n",
    "# Load the dataset\n",
    "df = pd.read_csv(\"blogs_categories.csv\")\n",
    "\n",
    "# Preview data\n",
    "print(df.head())\n",
    "print(\"\\nCategory distribution:\\n\", df['Labels'].value_counts())\n"
   ]
  },
  {
   "cell_type": "code",
   "execution_count": 10,
   "id": "74aa36fa-55f3-4c4e-b70c-be6d34359910",
   "metadata": {},
   "outputs": [
    {
     "name": "stdout",
     "output_type": "stream",
     "text": [
      "                                                Data      Labels  \\\n",
      "0  AI is transforming the future of technology wi...  Technology   \n",
      "1  My trip to the Swiss Alps was breathtaking and...      Travel   \n",
      "2  Try this delicious vegan lasagna recipe for a ...        Food   \n",
      "3  10 tips to improve your mental health and well...      Health   \n",
      "4  The latest smartphone features a foldable disp...  Technology   \n",
      "\n",
      "                                             cleaned  \n",
      "0  ai transforming future technology rapid innova...  \n",
      "1           trip swiss alps breathtaking adventurous  \n",
      "2  try delicious vegan lasagna recipe healthy dinner  \n",
      "3            10 tips improve mental health wellbeing  \n",
      "4  latest smartphone features foldable display 5g...  \n"
     ]
    }
   ],
   "source": [
    "# Apply text cleaning function to clean the 'Data' column\n",
    "df['cleaned'] = df['Data'].apply(clean_text)\n",
    "\n",
    "# Check if the 'cleaned' column has been created\n",
    "print(df.head())\n"
   ]
  },
  {
   "cell_type": "code",
   "execution_count": 11,
   "id": "9783aa62-006d-47e8-b711-af1b9ff303ff",
   "metadata": {},
   "outputs": [],
   "source": [
    "# Feature extraction using TF-IDF\n",
    "from sklearn.feature_extraction.text import TfidfVectorizer\n",
    "\n",
    "tfidf = TfidfVectorizer(max_features=1000)\n",
    "X = tfidf.fit_transform(df['cleaned'])\n",
    "\n",
    "# Labels (target variable)\n",
    "y = df['Labels']\n"
   ]
  },
  {
   "cell_type": "code",
   "execution_count": 12,
   "id": "bbe6764a-5793-4d05-8e6c-7c9c13426956",
   "metadata": {},
   "outputs": [],
   "source": [
    "from sklearn.model_selection import train_test_split\n",
    "\n",
    "# Split into training and testing data\n",
    "X_train, X_test, y_train, y_test = train_test_split(X, y, test_size=0.2, random_state=42)\n"
   ]
  },
  {
   "cell_type": "code",
   "execution_count": 13,
   "id": "be7cfa49-2dbc-4085-9905-7d80ff9f04ce",
   "metadata": {},
   "outputs": [],
   "source": [
    "from sklearn.naive_bayes import MultinomialNB\n",
    "\n",
    "# Train a Naive Bayes classifier\n",
    "nb_model = MultinomialNB()\n",
    "nb_model.fit(X_train, y_train)\n",
    "\n",
    "# Make predictions\n",
    "y_pred = nb_model.predict(X_test)\n"
   ]
  },
  {
   "cell_type": "code",
   "execution_count": 15,
   "id": "8dd8dd10-be9d-4e8e-8d6a-e4c5ec17ca62",
   "metadata": {},
   "outputs": [
    {
     "name": "stdout",
     "output_type": "stream",
     "text": [
      "Accuracy: 0.0\n",
      "              precision    recall  f1-score   support\n",
      "\n",
      "      Health       0.00      0.00      0.00       0.0\n",
      "  Technology       0.00      0.00      0.00       1.0\n",
      "      Travel       0.00      0.00      0.00       1.0\n",
      "\n",
      "    accuracy                           0.00       2.0\n",
      "   macro avg       0.00      0.00      0.00       2.0\n",
      "weighted avg       0.00      0.00      0.00       2.0\n",
      "\n"
     ]
    }
   ],
   "source": [
    "from sklearn.metrics import accuracy_score, classification_report\n",
    "\n",
    "# Evaluate the model\n",
    "accuracy = accuracy_score(y_test, y_pred)\n",
    "print(f'Accuracy: {accuracy}')\n",
    "\n",
    "# Print classification report with zero_division=0 (to avoid warnings)\n",
    "print(classification_report(y_test, y_pred, zero_division=0))\n"
   ]
  },
  {
   "cell_type": "code",
   "execution_count": 17,
   "id": "d2880c2c-1de0-4371-a39f-528a75070e6d",
   "metadata": {},
   "outputs": [
    {
     "name": "stdout",
     "output_type": "stream",
     "text": [
      "Defaulting to user installation because normal site-packages is not writeable\n",
      "Collecting textblob\n",
      "  Downloading textblob-0.19.0-py3-none-any.whl.metadata (4.4 kB)\n",
      "Requirement already satisfied: nltk>=3.9 in c:\\programdata\\anaconda3\\lib\\site-packages (from textblob) (3.9.1)\n",
      "Requirement already satisfied: click in c:\\programdata\\anaconda3\\lib\\site-packages (from nltk>=3.9->textblob) (8.1.7)\n",
      "Requirement already satisfied: joblib in c:\\programdata\\anaconda3\\lib\\site-packages (from nltk>=3.9->textblob) (1.4.2)\n",
      "Requirement already satisfied: regex>=2021.8.3 in c:\\programdata\\anaconda3\\lib\\site-packages (from nltk>=3.9->textblob) (2024.9.11)\n",
      "Requirement already satisfied: tqdm in c:\\programdata\\anaconda3\\lib\\site-packages (from nltk>=3.9->textblob) (4.66.5)\n",
      "Requirement already satisfied: colorama in c:\\programdata\\anaconda3\\lib\\site-packages (from click->nltk>=3.9->textblob) (0.4.6)\n",
      "Downloading textblob-0.19.0-py3-none-any.whl (624 kB)\n",
      "   ---------------------------------------- 0.0/624.3 kB ? eta -:--:--\n",
      "   --------------------------------------- 624.3/624.3 kB 11.3 MB/s eta 0:00:00\n",
      "Installing collected packages: textblob\n",
      "Successfully installed textblob-0.19.0\n"
     ]
    }
   ],
   "source": [
    "!pip install textblob\n"
   ]
  },
  {
   "cell_type": "code",
   "execution_count": 18,
   "id": "1ef3f9c2-92b4-4a38-927d-357094b42ca9",
   "metadata": {},
   "outputs": [
    {
     "name": "stdout",
     "output_type": "stream",
     "text": [
      "                                             cleaned  Polarity  Subjectivity\n",
      "0  ai transforming future technology rapid innova...      0.00         0.125\n",
      "1           trip swiss alps breathtaking adventurous      0.75         0.950\n",
      "2  try delicious vegan lasagna recipe healthy dinner      0.75         0.750\n",
      "3            10 tips improve mental health wellbeing     -0.10         0.200\n",
      "4  latest smartphone features foldable display 5g...      0.50         0.900\n"
     ]
    }
   ],
   "source": [
    "#Sentiment Analysis with TextBlob\n",
    "from textblob import TextBlob\n",
    "\n",
    "# Define a function to get sentiment polarity and subjectivity\n",
    "def get_sentiment(text):\n",
    "    # Create a TextBlob object\n",
    "    blob = TextBlob(text)\n",
    "    # Get polarity and subjectivity\n",
    "    polarity = blob.sentiment.polarity\n",
    "    subjectivity = blob.sentiment.subjectivity\n",
    "    return polarity, subjectivity\n",
    "\n",
    "# Apply the function to your 'cleaned' text column\n",
    "df[['Polarity', 'Subjectivity']] = df['cleaned'].apply(lambda x: pd.Series(get_sentiment(x)))\n",
    "\n",
    "# Preview the data to see the added sentiment columns\n",
    "print(df[['cleaned', 'Polarity', 'Subjectivity']].head())\n"
   ]
  },
  {
   "cell_type": "code",
   "execution_count": 19,
   "id": "d4662c04-84b7-40c8-8384-5376d727dd07",
   "metadata": {},
   "outputs": [
    {
     "name": "stdout",
     "output_type": "stream",
     "text": [
      "                                             cleaned  Polarity Sentiment\n",
      "0  ai transforming future technology rapid innova...      0.00   Neutral\n",
      "1           trip swiss alps breathtaking adventurous      0.75  Positive\n",
      "2  try delicious vegan lasagna recipe healthy dinner      0.75  Positive\n",
      "3            10 tips improve mental health wellbeing     -0.10  Negative\n",
      "4  latest smartphone features foldable display 5g...      0.50  Positive\n"
     ]
    }
   ],
   "source": [
    "#Categorize Sentiment\n",
    "def categorize_sentiment(polarity):\n",
    "    if polarity > 0:\n",
    "        return 'Positive'\n",
    "    elif polarity < 0:\n",
    "        return 'Negative'\n",
    "    else:\n",
    "        return 'Neutral'\n",
    "\n",
    "# Apply the sentiment categorization\n",
    "df['Sentiment'] = df['Polarity'].apply(categorize_sentiment)\n",
    "\n",
    "# Preview the data to see the sentiment categorization\n",
    "print(df[['cleaned', 'Polarity', 'Sentiment']].head())\n"
   ]
  },
  {
   "cell_type": "code",
   "execution_count": 20,
   "id": "6bf2e38e-de91-4098-8c20-082b34142791",
   "metadata": {},
   "outputs": [
    {
     "data": {
      "image/png": "[encoded data removed]",
      "text/plain": [
       "<Figure size 1000x600 with 1 Axes>"
      ]
     },
     "metadata": {},
     "output_type": "display_data"
    }
   ],
   "source": [
    "#Visualize Sentiment Distribution\n",
    "import matplotlib.pyplot as plt\n",
    "\n",
    "# Sentiment distribution across categories\n",
    "sentiment_distribution = df.groupby('Labels')['Sentiment'].value_counts().unstack().fillna(0)\n",
    "\n",
    "# Plot sentiment distribution across categories\n",
    "sentiment_distribution.plot(kind='bar', stacked=True, figsize=(10, 6))\n",
    "plt.title('Sentiment Distribution across Blog Categories')\n",
    "plt.ylabel('Count')\n",
    "plt.xlabel('Category')\n",
    "plt.show()\n"
   ]
  },
  {
   "cell_type": "code",
   "execution_count": null,
   "id": "d25d809e-1f94-482d-923b-67f360aa8b49",
   "metadata": {},
   "outputs": [],
   "source": []
  }
 ],
 "metadata": {
  "kernelspec": {
   "display_name": "Python 3 (ipykernel)",
   "language": "python",
   "name": "python3"
  },
  "language_info": {
   "codemirror_mode": {
    "name": "ipython",
    "version": 3
   },
   "file_extension": ".py",
   "mimetype": "text/x-python",
   "name": "python",
   "nbconvert_exporter": "python",
   "pygments_lexer": "ipython3",
   "version": "3.12.7"
  }
 },
 "nbformat": 4,
 "nbformat_minor": 5
}
