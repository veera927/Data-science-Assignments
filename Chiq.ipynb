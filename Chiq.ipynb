{
 "cells": [
  {
   "cell_type": "code",
   "execution_count": 1,
   "id": "fdd9ce86-41cc-4e51-8aea-53d9a9db7dc1",
   "metadata": {},
   "outputs": [
    {
     "name": "stdout",
     "output_type": "stream",
     "text": [
      "Chi-Square Statistic: 5.638227513227513\n",
      "Critical Value at alpha = 0.05 and df = 4: 9.487729036781154\n",
      "Fail to reject the null hypothesis: There is no significant association between device type and customer satisfaction.\n"
     ]
    }
   ],
   "source": [
    "import numpy as np\n",
    "import scipy.stats as stats\n",
    "\n",
    "# Observed data (contingency table)\n",
    "observed = np.array([[50, 70],\n",
    "                     [80, 100],\n",
    "                     [60, 90],\n",
    "                     [30, 50],\n",
    "                     [20, 50]])\n",
    "\n",
    "# Step 1: Compute the row totals, column totals, and grand total\n",
    "row_totals = observed.sum(axis=1)\n",
    "column_totals = observed.sum(axis=0)\n",
    "grand_total = observed.sum()\n",
    "\n",
    "# Step 2: Compute the expected values under the null hypothesis (independence)\n",
    "expected = np.outer(row_totals, column_totals) / grand_total\n",
    "\n",
    "# Step 3: Compute the Chi-Square statistic\n",
    "chi_square_stat = ((observed - expected) ** 2 / expected).sum()\n",
    "\n",
    "# Step 4: Degrees of Freedom (df)\n",
    "df = (observed.shape[0] - 1) * (observed.shape[1] - 1)\n",
    "\n",
    "# Step 5: Determine the critical value at alpha = 0.05\n",
    "alpha = 0.05\n",
    "critical_value = stats.chi2.ppf(1 - alpha, df)\n",
    "\n",
    "# Step 6: Output results\n",
    "print(f\"Chi-Square Statistic: {chi_square_stat}\")\n",
    "print(f\"Critical Value at alpha = {alpha} and df = {df}: {critical_value}\")\n",
    "\n",
    "# Step 7: Make a decision\n",
    "if chi_square_stat > critical_value:\n",
    "    print(\"Reject the null hypothesis: There is a significant association between device type and customer satisfaction.\")\n",
    "else:\n",
    "    print(\"Fail to reject the null hypothesis: There is no significant association between device type and customer satisfaction.\")\n"
   ]
  },
  {
   "cell_type": "code",
   "execution_count": null,
   "id": "42d15c15-af12-40f8-a7fc-d79bb1cbc024",
   "metadata": {},
   "outputs": [],
   "source": [
    "#The Chi-Square test for independence shows that there is no significant association between the type of device (Smart Thermostat or Smart Light) and customer satisfaction level. \n",
    "#Therefore, customer satisfaction appears to be independent of the device type."
   ]
  }
 ],
 "metadata": {
  "kernelspec": {
   "display_name": "Python 3 (ipykernel)",
   "language": "python",
   "name": "python3"
  },
  "language_info": {
   "codemirror_mode": {
    "name": "ipython",
    "version": 3
   },
   "file_extension": ".py",
   "mimetype": "text/x-python",
   "name": "python",
   "nbconvert_exporter": "python",
   "pygments_lexer": "ipython3",
   "version": "3.12.7"
  }
 },
 "nbformat": 4,
 "nbformat_minor": 5
}
