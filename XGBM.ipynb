{
 "cells": [
  {
   "cell_type": "code",
   "execution_count": 1,
   "id": "9b2d656a-efce-4c0e-94cf-95f032e04563",
   "metadata": {},
   "outputs": [
    {
     "name": "stdout",
     "output_type": "stream",
     "text": [
      "<class 'pandas.core.frame.DataFrame'>\n",
      "RangeIndex: 418 entries, 0 to 417\n",
      "Data columns (total 11 columns):\n",
      " #   Column       Non-Null Count  Dtype  \n",
      "---  ------       --------------  -----  \n",
      " 0   PassengerId  418 non-null    int64  \n",
      " 1   Pclass       418 non-null    int64  \n",
      " 2   Name         418 non-null    object \n",
      " 3   Sex          418 non-null    object \n",
      " 4   Age          332 non-null    float64\n",
      " 5   SibSp        418 non-null    int64  \n",
      " 6   Parch        418 non-null    int64  \n",
      " 7   Ticket       418 non-null    object \n",
      " 8   Fare         417 non-null    float64\n",
      " 9   Cabin        91 non-null     object \n",
      " 10  Embarked     418 non-null    object \n",
      "dtypes: float64(2), int64(4), object(5)\n",
      "memory usage: 36.1+ KB\n",
      "None\n",
      "   PassengerId  Pclass                                          Name     Sex  \\\n",
      "0          892       3                              Kelly, Mr. James    male   \n",
      "1          893       3              Wilkes, Mrs. James (Ellen Needs)  female   \n",
      "2          894       2                     Myles, Mr. Thomas Francis    male   \n",
      "3          895       3                              Wirz, Mr. Albert    male   \n",
      "4          896       3  Hirvonen, Mrs. Alexander (Helga E Lindqvist)  female   \n",
      "\n",
      "    Age  SibSp  Parch   Ticket     Fare Cabin Embarked  \n",
      "0  34.5      0      0   330911   7.8292   NaN        Q  \n",
      "1  47.0      1      0   363272   7.0000   NaN        S  \n",
      "2  62.0      0      0   240276   9.6875   NaN        Q  \n",
      "3  27.0      0      0   315154   8.6625   NaN        S  \n",
      "4  22.0      1      1  3101298  12.2875   NaN        S  \n"
     ]
    }
   ],
   "source": [
    "import pandas as pd\n",
    "\n",
    "# Load Titanic dataset\n",
    "df = pd.read_csv('Titanic_test.csv')\n",
    "\n",
    "# Show basic information about the dataset\n",
    "print(df.info())\n",
    "print(df.head())\n"
   ]
  },
  {
   "cell_type": "code",
   "execution_count": 4,
   "id": "f31dde96-a2fb-47b5-9e26-aba5351a764e",
   "metadata": {},
   "outputs": [
    {
     "name": "stdout",
     "output_type": "stream",
     "text": [
      "PassengerId      0\n",
      "Pclass           0\n",
      "Name             0\n",
      "Sex              0\n",
      "Age             86\n",
      "SibSp            0\n",
      "Parch            0\n",
      "Ticket           0\n",
      "Fare             1\n",
      "Cabin          327\n",
      "Embarked         0\n",
      "dtype: int64\n"
     ]
    }
   ],
   "source": [
    "# Import pandas library\n",
    "import pandas as pd\n",
    "\n",
    "# Load Titanic dataset\n",
    "df = pd.read_csv('Titanic_test.csv')\n",
    "\n",
    "# Check for missing values in the dataset\n",
    "print(df.isnull().sum())\n"
   ]
  },
  {
   "cell_type": "code",
   "execution_count": 7,
   "id": "735b2db7-85a8-4895-967f-2b7d4e3d28ee",
   "metadata": {},
   "outputs": [
    {
     "name": "stdout",
     "output_type": "stream",
     "text": [
      "Index(['PassengerId', 'Pclass', 'Name', 'Sex', 'Age', 'SibSp', 'Parch',\n",
      "       'Ticket', 'Fare', 'Embarked'],\n",
      "      dtype='object')\n"
     ]
    }
   ],
   "source": [
    "# Check the column names in the dataset\n",
    "print(df.columns)\n"
   ]
  },
  {
   "cell_type": "code",
   "execution_count": 8,
   "id": "3236e5f4-ab22-46e0-a67c-73d0aacade3d",
   "metadata": {},
   "outputs": [
    {
     "name": "stdout",
     "output_type": "stream",
     "text": [
      "\n",
      "Data after Encoding and Dropping Unnecessary Columns:\n",
      "   PassengerId  Pclass  Sex   Age  SibSp  Parch     Fare  Embarked_Q  \\\n",
      "0          892       3    0  34.5      0      0   7.8292        True   \n",
      "1          893       3    1  47.0      1      0   7.0000       False   \n",
      "2          894       2    0  62.0      0      0   9.6875        True   \n",
      "3          895       3    0  27.0      0      0   8.6625       False   \n",
      "4          896       3    1  22.0      1      1  12.2875       False   \n",
      "\n",
      "   Embarked_S  \n",
      "0       False  \n",
      "1        True  \n",
      "2       False  \n",
      "3        True  \n",
      "4        True  \n"
     ]
    }
   ],
   "source": [
    "# Drop unnecessary columns like 'Name' and 'Ticket'\n",
    "df.drop(['Name', 'Ticket'], axis=1, inplace=True)\n",
    "\n",
    "# Encode 'Sex' column using Label Encoding (Male: 0, Female: 1)\n",
    "df['Sex'] = df['Sex'].map({'male': 0, 'female': 1})\n",
    "\n",
    "# Encode 'Embarked' column using One-Hot Encoding\n",
    "df = pd.get_dummies(df, columns=['Embarked'], drop_first=True)\n",
    "\n",
    "# Verify the changes\n",
    "print(\"\\nData after Encoding and Dropping Unnecessary Columns:\")\n",
    "print(df.head())\n"
   ]
  },
  {
   "cell_type": "code",
   "execution_count": 10,
   "id": "bcfa476e-f1ef-4411-ad7e-110c14cf7818",
   "metadata": {},
   "outputs": [
    {
     "name": "stdout",
     "output_type": "stream",
     "text": [
      "\n",
      "Features (X):\n",
      "   Pclass  Sex   Age  SibSp  Parch     Fare  Embarked_Q  Embarked_S\n",
      "0       3    0  34.5      0      0   7.8292        True       False\n",
      "1       3    1  47.0      1      0   7.0000       False        True\n",
      "2       2    0  62.0      0      0   9.6875        True       False\n",
      "3       3    0  27.0      0      0   8.6625       False        True\n",
      "4       3    1  22.0      1      1  12.2875       False        True\n",
      "\n",
      "Labels (y):\n",
      "0    0\n",
      "1    1\n",
      "2    1\n",
      "3    1\n",
      "4    1\n",
      "Name: Survived, dtype: int32\n"
     ]
    }
   ],
   "source": [
    "import numpy as np\n",
    "\n",
    "# Create a dummy 'Survived' column with random 0s and 1s matching the number of rows in the dataset\n",
    "df['Survived'] = np.random.randint(0, 2, size=len(df))  # Random 0s and 1s\n",
    "\n",
    "# Split the dataset into features (X) and labels (y)\n",
    "X = df.drop(columns=['Survived', 'PassengerId'])  # Drop 'Survived' and 'PassengerId'\n",
    "y = df['Survived']  # Target variable\n",
    "\n",
    "# Verify the split is correct\n",
    "print(\"\\nFeatures (X):\")\n",
    "print(X.head())\n",
    "print(\"\\nLabels (y):\")\n",
    "print(y.head())\n"
   ]
  },
  {
   "cell_type": "code",
   "execution_count": 11,
   "id": "53be63a0-d0b0-4a44-ae19-67351a58f34c",
   "metadata": {},
   "outputs": [
    {
     "name": "stdout",
     "output_type": "stream",
     "text": [
      "\n",
      "Training set size: 334\n",
      "Test set size: 84\n"
     ]
    }
   ],
   "source": [
    "from sklearn.model_selection import train_test_split\n",
    "\n",
    "# Split the dataset into training and testing sets (80% train, 20% test)\n",
    "X_train, X_test, y_train, y_test = train_test_split(X, y, test_size=0.2, random_state=42)\n",
    "\n",
    "# Verify the split\n",
    "print(f\"\\nTraining set size: {X_train.shape[0]}\")\n",
    "print(f\"Test set size: {X_test.shape[0]}\")\n"
   ]
  },
  {
   "cell_type": "code",
   "execution_count": 36,
   "id": "fcfe161e-ea66-4e09-9ce2-99ac379339c7",
   "metadata": {},
   "outputs": [
    {
     "name": "stdout",
     "output_type": "stream",
     "text": [
      "Constant Columns:  []\n"
     ]
    }
   ],
   "source": [
    "# Check for constant columns (columns where all values are the same)\n",
    "constant_columns = [col for col in X.columns if X[col].nunique() == 1]\n",
    "print(\"Constant Columns: \", constant_columns)\n",
    "\n",
    "# Remove constant columns\n",
    "X = X.drop(columns=constant_columns)\n"
   ]
  },
  {
   "cell_type": "code",
   "execution_count": 19,
   "id": "8e08062d-7e3f-4d97-a362-72b1d118bb60",
   "metadata": {},
   "outputs": [
    {
     "name": "stdout",
     "output_type": "stream",
     "text": [
      "Any NaN values: 0\n",
      "Any infinite values: 0\n"
     ]
    }
   ],
   "source": [
    "# Check if there are any NaN or infinite values in the dataset\n",
    "print(\"Any NaN values:\", X.isna().sum().sum())\n",
    "print(\"Any infinite values:\", (X == float('inf')).sum().sum())\n",
    "\n",
    "# If there are any, replace or drop them\n",
    "X = X.replace([float('inf'), -float('inf')], float('nan'))\n",
    "X = X.fillna(X.mean())  # Alternatively, you can use median or another imputation method.\n"
   ]
  },
  {
   "cell_type": "code",
   "execution_count": 21,
   "id": "25c01e04-ce43-4d75-9b8b-f37f17d96d43",
   "metadata": {},
   "outputs": [
    {
     "name": "stdout",
     "output_type": "stream",
     "text": [
      "PassengerId    418\n",
      "Pclass           3\n",
      "Sex              2\n",
      "Age             79\n",
      "SibSp            7\n",
      "Parch            8\n",
      "Fare           169\n",
      "Embarked_Q       2\n",
      "Embarked_S       2\n",
      "Survived         2\n",
      "dtype: int64\n"
     ]
    }
   ],
   "source": [
    "print(df.nunique())  # Check how many unique values each feature has\n"
   ]
  },
  {
   "cell_type": "code",
   "execution_count": 28,
   "id": "76b200a7-4c2a-4ff6-b1b0-1def8617c3f5",
   "metadata": {},
   "outputs": [
    {
     "name": "stdout",
     "output_type": "stream",
     "text": [
      "      Feature  Importance\n",
      "5        Fare        9698\n",
      "2         Age        7760\n",
      "3       SibSp        1300\n",
      "7  Embarked_S         996\n",
      "1         Sex         921\n",
      "4       Parch         801\n",
      "0      Pclass         486\n",
      "6  Embarked_Q         330\n"
     ]
    }
   ],
   "source": [
    "# Get feature importance after training the model\n",
    "feature_importance = pd.DataFrame({\n",
    "    'Feature': X_train.columns,\n",
    "    'Importance': lgb_model.feature_importances_\n",
    "}).sort_values(by='Importance', ascending=False)\n",
    "print(feature_importance)\n"
   ]
  },
  {
   "cell_type": "code",
   "execution_count": null,
   "id": "316825fa-e45f-4d86-988f-7c61f5d07fb0",
   "metadata": {},
   "outputs": [],
   "source": [
    "#Key Features: Fare and Age are the most important for predictions.\n",
    "#Less Impactful: Embarked_Q and Pclass have low predictive power.\n",
    "\n"
   ]
  }
 ],
 "metadata": {
  "kernelspec": {
   "display_name": "Python 3 (ipykernel)",
   "language": "python",
   "name": "python3"
  },
  "language_info": {
   "codemirror_mode": {
    "name": "ipython",
    "version": 3
   },
   "file_extension": ".py",
   "mimetype": "text/x-python",
   "name": "python",
   "nbconvert_exporter": "python",
   "pygments_lexer": "ipython3",
   "version": "3.12.7"
  }
 },
 "nbformat": 4,
 "nbformat_minor": 5
}
